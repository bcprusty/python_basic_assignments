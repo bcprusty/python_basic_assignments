{
 "cells": [
  {
   "cell_type": "markdown",
   "id": "4d1e6b4b-2116-4841-aaed-5e95c5758f98",
   "metadata": {},
   "source": [
    "#### TOPIC: String Based Assignment Problem"
   ]
  },
  {
   "cell_type": "code",
   "execution_count": 4,
   "id": "326fbe30-9190-4270-9a41-29708b2ec983",
   "metadata": {},
   "outputs": [
    {
     "name": "stdin",
     "output_type": "stream",
     "text": [
      "Enter a string:  Bikash\n"
     ]
    },
    {
     "name": "stdout",
     "output_type": "stream",
     "text": [
      "Reversed string:  hsakiB\n"
     ]
    }
   ],
   "source": [
    "#1. Write a program to reverse a string.\n",
    "\n",
    "s = input('Enter a string: ')\n",
    "print('Reversed string: ', s[::-1])"
   ]
  },
  {
   "cell_type": "code",
   "execution_count": 6,
   "id": "be4e86f7-8dcb-4c09-9ee0-1db8c737d3cf",
   "metadata": {},
   "outputs": [
    {
     "name": "stdin",
     "output_type": "stream",
     "text": [
      "Enter a string:  madam\n"
     ]
    },
    {
     "name": "stdout",
     "output_type": "stream",
     "text": [
      "Palindrome String\n"
     ]
    }
   ],
   "source": [
    "#2. Check if a string is a palindrome.\n",
    "\n",
    "s = input('Enter a string: ')\n",
    "r = s[::-1]\n",
    "if s==r:\n",
    "    print('Palindrome String')\n",
    "else:\n",
    "    print('Not a Palindrome String')"
   ]
  },
  {
   "cell_type": "code",
   "execution_count": 9,
   "id": "553d2c1d-835b-4a05-b489-08e45e023e27",
   "metadata": {},
   "outputs": [
    {
     "name": "stdin",
     "output_type": "stream",
     "text": [
      "Enter a string:  Bikash\n"
     ]
    },
    {
     "name": "stdout",
     "output_type": "stream",
     "text": [
      "String in uppercase: BIKASH\n"
     ]
    }
   ],
   "source": [
    "#3. Convert a string to uppercase.\n",
    "\n",
    "s = input('Enter a string: ')\n",
    "print('String in uppercase:', s.upper())"
   ]
  },
  {
   "cell_type": "code",
   "execution_count": 10,
   "id": "7d54f895-24f8-4a35-b3b7-45e240be6a36",
   "metadata": {},
   "outputs": [
    {
     "name": "stdin",
     "output_type": "stream",
     "text": [
      "Enter a string:  BikAsh\n"
     ]
    },
    {
     "name": "stdout",
     "output_type": "stream",
     "text": [
      "String in uppercase: bikash\n"
     ]
    }
   ],
   "source": [
    "#4. Convert a string to lowercase.\n",
    "\n",
    "\n",
    "s = input('Enter a string: ')\n",
    "print('String in uppercase:', s.lower())"
   ]
  },
  {
   "cell_type": "code",
   "execution_count": 27,
   "id": "967f2d02-4b16-4c6a-9a86-76af98caaf20",
   "metadata": {},
   "outputs": [
    {
     "name": "stdin",
     "output_type": "stream",
     "text": [
      "Enter a string:  Data Science\n"
     ]
    },
    {
     "name": "stdout",
     "output_type": "stream",
     "text": [
      "Number of vowels present in Data Science are 5\n"
     ]
    }
   ],
   "source": [
    "#5. Count the number of vowels in a string.\n",
    "\n",
    "s = input('Enter a string: ')\n",
    "vowels = ['a','e','i','o','u','A','E','I','O','U']\n",
    "\n",
    "ctr = 0\n",
    "for v in vowels:\n",
    "    ctr+=s.count(v)\n",
    "\n",
    "print('Number of vowels present in',s,'are',ctr)"
   ]
  },
  {
   "cell_type": "code",
   "execution_count": 36,
   "id": "6d628dab-3e8c-4dd7-9fc3-784e76e2194a",
   "metadata": {},
   "outputs": [
    {
     "name": "stdin",
     "output_type": "stream",
     "text": [
      "Enter a string:  Bikash Prusty\n"
     ]
    },
    {
     "name": "stdout",
     "output_type": "stream",
     "text": [
      "Number of consonants present in Bikash Prusty are 9\n"
     ]
    }
   ],
   "source": [
    "#6. Count the number of consonants in a string.\n",
    "\n",
    "s = input('Enter a string: ')\n",
    "stg = s.lower()\n",
    "\n",
    "ctr=0\n",
    "for s1 in stg:\n",
    "    if s1>='a' and s1<='z':\n",
    "        if (s1=='a' or s1=='e' or s1=='i' or s1=='o' or s1=='u'):\n",
    "            continue\n",
    "        else:\n",
    "            ctr+=1\n",
    "            \n",
    "print('Number of consonants present in',s,'are',ctr)"
   ]
  },
  {
   "cell_type": "code",
   "execution_count": 38,
   "id": "68620d39-b201-48bd-9696-09bd65120edb",
   "metadata": {},
   "outputs": [
    {
     "name": "stdin",
     "output_type": "stream",
     "text": [
      "Enter a string:  Data Science Mas ter s\n"
     ]
    },
    {
     "name": "stdout",
     "output_type": "stream",
     "text": [
      "String after removing whitespaces:  DataScienceMasters\n"
     ]
    }
   ],
   "source": [
    "#7. Remove all whitespaces from a string.\n",
    "\n",
    "s=input('Enter a string: ')\n",
    "print('String after removing whitespaces: ', s.replace(' ',''))"
   ]
  },
  {
   "cell_type": "code",
   "execution_count": 1,
   "id": "547e5eb3-c57a-43dc-b9e5-e6515432f95e",
   "metadata": {},
   "outputs": [
    {
     "name": "stdin",
     "output_type": "stream",
     "text": [
      "Enter a string:  PowerBI\n"
     ]
    },
    {
     "name": "stdout",
     "output_type": "stream",
     "text": [
      "Length of PowerBI are 7\n"
     ]
    }
   ],
   "source": [
    "#8. Find the length of a string without using the `len()` function.\n",
    "\n",
    "s = input('Enter a string: ')\n",
    "\n",
    "ctr=0\n",
    "for s1 in s:\n",
    "    ctr+=1\n",
    "        \n",
    "print('Length of',s,'are',ctr)"
   ]
  },
  {
   "cell_type": "code",
   "execution_count": 5,
   "id": "3629f8c9-8cba-496c-b14c-730bc856fc09",
   "metadata": {},
   "outputs": [
    {
     "name": "stdin",
     "output_type": "stream",
     "text": [
      "Enter a string:  Bikash Chandra Prusty\n",
      "Enter word to be searched:  Chandra\n"
     ]
    },
    {
     "name": "stdout",
     "output_type": "stream",
     "text": [
      "Chandra is present in Bikash Chandra Prusty\n"
     ]
    }
   ],
   "source": [
    "#9. Check if a string contains a specific word.\n",
    "\n",
    "s = input('Enter a string: ')\n",
    "w = input('Enter word to be searched: ')\n",
    "\n",
    "s1 = s.split()\n",
    "\n",
    "for i in s1:\n",
    "    if i == w:\n",
    "        print(w,'is present in',s)\n",
    "        break"
   ]
  },
  {
   "cell_type": "code",
   "execution_count": 17,
   "id": "b9528c86-0eac-48c3-bdc1-2c80ae54b25a",
   "metadata": {},
   "outputs": [
    {
     "name": "stdin",
     "output_type": "stream",
     "text": [
      "Enter a string:  Bikash Chandra Prusty\n",
      "Enter word to be replaced:  Chandra\n",
      "Enter new word for replaced word:  Kumar\n"
     ]
    },
    {
     "name": "stdout",
     "output_type": "stream",
     "text": [
      "Result:  Bikash Kumar Prusty\n"
     ]
    }
   ],
   "source": [
    "#10. Replace a word in a string with another word.\n",
    "\n",
    "s = input('Enter a string: ')\n",
    "r = input('Enter word to be replaced: ')\n",
    "w = input('Enter new word for replaced word: ')\n",
    "\n",
    "if r in s:\n",
    "    print('Result: ',s.replace(r,w))\n",
    "else:\n",
    "    print('Word to be replaced not found in the string')"
   ]
  },
  {
   "cell_type": "code",
   "execution_count": 20,
   "id": "a3be17e2-9614-4d43-939b-78221d24d1c5",
   "metadata": {},
   "outputs": [
    {
     "name": "stdin",
     "output_type": "stream",
     "text": [
      "Enter a string coding is fun; coding exercises the brain \n",
      "Enter word whose occurance has to be counted:  coding\n"
     ]
    },
    {
     "name": "stdout",
     "output_type": "stream",
     "text": [
      "Count of coding in coding is fun; coding exercises the brain  : 2\n"
     ]
    }
   ],
   "source": [
    "#11. Count the occurrences of a word in a string.\n",
    "\n",
    "s = input(\"Enter a string\")\n",
    "w = input(\"Enter word whose occurance has to be counted: \")\n",
    "\n",
    "print('Count of',w,'in',s,':',s.count(w))"
   ]
  },
  {
   "cell_type": "code",
   "execution_count": 25,
   "id": "d5d483eb-ed2a-4bf7-98a7-b64881fa2312",
   "metadata": {},
   "outputs": [
    {
     "name": "stdin",
     "output_type": "stream",
     "text": [
      "Enter a string: hello how are you? hope you are good!\n",
      "Enter word whose first occurance has to be searched:  are\n"
     ]
    },
    {
     "name": "stdout",
     "output_type": "stream",
     "text": [
      "First occurance of are in hello how are you? hope you are good! is at 10 index\n"
     ]
    }
   ],
   "source": [
    "#12. Find the first occurrence of a word in a string.\n",
    "\n",
    "s = input(\"Enter a string:\")\n",
    "w = input(\"Enter word whose first occurance has to be searched: \")\n",
    "\n",
    "print('First occurance of',w,\"in\", s, \"is at\",s.find(w), 'index')"
   ]
  },
  {
   "cell_type": "code",
   "execution_count": 26,
   "id": "28e03410-db6e-4023-a185-9262f6d93ba1",
   "metadata": {},
   "outputs": [
    {
     "name": "stdin",
     "output_type": "stream",
     "text": [
      "Enter a string: hello how are you? hope you are good!\n",
      "Enter word whose first occurance has to be searched:  you\n"
     ]
    },
    {
     "name": "stdout",
     "output_type": "stream",
     "text": [
      "Last occurance of you in hello how are you? hope you are good! is at 24 index\n"
     ]
    }
   ],
   "source": [
    "#13. Find the last occurrence of a word in a string.\n",
    "\n",
    "s = input(\"Enter a string:\")\n",
    "w = input(\"Enter word whose first occurance has to be searched: \")\n",
    "\n",
    "print('Last occurance of',w,\"in\", s, \"is at\",s.rfind(w), 'index')"
   ]
  },
  {
   "cell_type": "code",
   "execution_count": 27,
   "id": "75a97f0d-aa7f-4197-bdba-e16a99c7800a",
   "metadata": {},
   "outputs": [
    {
     "name": "stdin",
     "output_type": "stream",
     "text": [
      "Enter a string: coding is fun\n"
     ]
    },
    {
     "name": "stdout",
     "output_type": "stream",
     "text": [
      "String to list of words ['coding', 'is', 'fun']\n"
     ]
    }
   ],
   "source": [
    "#14. Split a string into a list of words.\n",
    "\n",
    "s = input(\"Enter a string:\")\n",
    "print(\"String to list of words\", s.split())"
   ]
  },
  {
   "cell_type": "code",
   "execution_count": 35,
   "id": "5e648a34-fd10-4dfa-bfe7-07b94bcc318d",
   "metadata": {},
   "outputs": [
    {
     "name": "stdin",
     "output_type": "stream",
     "text": [
      "Enter a list of words:  hello world\n"
     ]
    },
    {
     "name": "stdout",
     "output_type": "stream",
     "text": [
      "hello world\n"
     ]
    }
   ],
   "source": [
    "#15. Join a list of words into a string.\n",
    "\n",
    "l = list(input(\"Enter a list of words: \"))\n",
    "print(\"\".join(l))"
   ]
  },
  {
   "cell_type": "code",
   "execution_count": 36,
   "id": "9ffdd26e-d099-437b-92fc-f7c084cf8b13",
   "metadata": {},
   "outputs": [
    {
     "name": "stdin",
     "output_type": "stream",
     "text": [
      "Enter a string:  Data Science Rocks!\n"
     ]
    },
    {
     "name": "stdout",
     "output_type": "stream",
     "text": [
      "Result:  Data_Science_Rocks!\n"
     ]
    }
   ],
   "source": [
    "'''16. Convert a string where words are separated by spaces to one where words\n",
    "are separated by underscores.'''\n",
    "\n",
    "s = input(\"Enter a string: \")\n",
    "print(\"Result: \", s.replace(\" \",\"_\"))"
   ]
  },
  {
   "cell_type": "code",
   "execution_count": 38,
   "id": "5b332a88-33df-4f89-b4e9-ea1291f53fb8",
   "metadata": {},
   "outputs": [
    {
     "name": "stdin",
     "output_type": "stream",
     "text": [
      "Enter a string:  Machine learning is a part of AI\n",
      "Enter the word to be searched:  Machine learning\n"
     ]
    },
    {
     "name": "stdout",
     "output_type": "stream",
     "text": [
      "Machine learning is a part of AI starts with Machine learning\n"
     ]
    }
   ],
   "source": [
    "#17. Check if a string starts with a specific word or phrase.\n",
    "\n",
    "s = input(\"Enter a string: \")\n",
    "w = input(\"Enter the word to be searched: \")\n",
    "\n",
    "if s.startswith(w) == True:\n",
    "    print(s,\"starts with\",w)\n",
    "else:\n",
    "    print(s,\"does not starts with\",w)"
   ]
  },
  {
   "cell_type": "code",
   "execution_count": 43,
   "id": "c9eea23a-81c7-44d7-a421-8ed3602c2588",
   "metadata": {},
   "outputs": [
    {
     "name": "stdin",
     "output_type": "stream",
     "text": [
      "Enter a string:  AI is the superset of ML\n",
      "Enter the word to be searched:  ML\n"
     ]
    },
    {
     "name": "stdout",
     "output_type": "stream",
     "text": [
      "AI is the superset of ML ends with ML\n"
     ]
    }
   ],
   "source": [
    "#18. Check if a string ends with a specific word or phrase.\n",
    "\n",
    "s = input(\"Enter a string: \")\n",
    "w = input(\"Enter the word to be searched: \")\n",
    "\n",
    "if s.endswith(w) == True:\n",
    "    print(s,\"ends with\",w)\n",
    "else:\n",
    "    print(s,\"does not ends with\",w)"
   ]
  },
  {
   "cell_type": "code",
   "execution_count": 44,
   "id": "1a2b5d71-e62f-4119-9394-add2c3873ec2",
   "metadata": {},
   "outputs": [
    {
     "name": "stdin",
     "output_type": "stream",
     "text": [
      "Enter a string:  hello world\n"
     ]
    },
    {
     "name": "stdout",
     "output_type": "stream",
     "text": [
      "Title case string:  Hello World\n"
     ]
    }
   ],
   "source": [
    "#19. Convert a string to title case (e.g., \"hello world\" to \"Hello World\").\n",
    "\n",
    "s = input(\"Enter a string: \")\n",
    "print(\"Title case string: \", s.title())"
   ]
  },
  {
   "cell_type": "code",
   "execution_count": 47,
   "id": "27714a29-5125-4d74-8d66-a160e99f600c",
   "metadata": {},
   "outputs": [
    {
     "name": "stdin",
     "output_type": "stream",
     "text": [
      "Enter a string: hello how are u\n"
     ]
    },
    {
     "name": "stdout",
     "output_type": "stream",
     "text": [
      "Longest word:  hello\n"
     ]
    }
   ],
   "source": [
    "#20. Find the longest word in a string.\n",
    "\n",
    "s = input(\"Enter a string:\")\n",
    "l = s.split()\n",
    "print(\"Longest word: \", max(l,key=len))"
   ]
  },
  {
   "cell_type": "code",
   "execution_count": 49,
   "id": "13b2f37e-e05e-456b-b130-85da07c3bcf4",
   "metadata": {},
   "outputs": [
    {
     "name": "stdin",
     "output_type": "stream",
     "text": [
      "Enter a string: how is the weather\n"
     ]
    },
    {
     "name": "stdout",
     "output_type": "stream",
     "text": [
      "Shortest word:  is\n"
     ]
    }
   ],
   "source": [
    "#21. Find the shortest word in a string.\n",
    "\n",
    "s = input(\"Enter a string:\")\n",
    "l = s.split()\n",
    "print(\"Shortest word: \", min(l,key=len))"
   ]
  },
  {
   "cell_type": "code",
   "execution_count": 54,
   "id": "873eb7fb-a43e-420f-8563-6f36bf3422a2",
   "metadata": {},
   "outputs": [
    {
     "name": "stdin",
     "output_type": "stream",
     "text": [
      "Enter a string:  deep learning is a part of AI\n"
     ]
    },
    {
     "name": "stdout",
     "output_type": "stream",
     "text": [
      "String in reversed word order: AI of part a is learning deep\n"
     ]
    }
   ],
   "source": [
    "#22. Reverse the order of words in a string.\n",
    "\n",
    "s = input(\"Enter a string: \")\n",
    "\n",
    "r = s.split()[::-1]\n",
    "\n",
    "print(\"String in reversed word order:\",\" \".join(r))"
   ]
  },
  {
   "cell_type": "code",
   "execution_count": 57,
   "id": "af98e535-1b5d-41a3-ae7b-338483785e6f",
   "metadata": {},
   "outputs": [
    {
     "name": "stdin",
     "output_type": "stream",
     "text": [
      "Enter a string:  bikash8899\n"
     ]
    },
    {
     "name": "stdout",
     "output_type": "stream",
     "text": [
      "String is alphanumeric\n"
     ]
    }
   ],
   "source": [
    "#23. Check if a string is alphanumeric.\n",
    "\n",
    "s = input(\"Enter a string: \")\n",
    "if s.isalnum() == True:\n",
    "    print(\"String is alphanumeric\")\n",
    "else:\n",
    "    print('String is not alphanumeric')"
   ]
  },
  {
   "cell_type": "code",
   "execution_count": 66,
   "id": "b6b364fa-cd6b-46ee-9575-90064f990b94",
   "metadata": {},
   "outputs": [
    {
     "name": "stdin",
     "output_type": "stream",
     "text": [
      "Enter a string:  bikash123@rediffmail.com\n"
     ]
    },
    {
     "name": "stdout",
     "output_type": "stream",
     "text": [
      "Extracted digits from the string:  123\n"
     ]
    }
   ],
   "source": [
    "#24. Extract all digits from a string.\n",
    "\n",
    "s=input(\"Enter a string: \")\n",
    "n=str()\n",
    "for i in s:\n",
    "    if i.isnumeric() == True:\n",
    "        n=n+i\n",
    "print(\"Extracted digits from the string: \",n)"
   ]
  },
  {
   "cell_type": "code",
   "execution_count": 69,
   "id": "7d38ce84-0827-4a28-9862-6a55a1ce8acd",
   "metadata": {},
   "outputs": [
    {
     "name": "stdin",
     "output_type": "stream",
     "text": [
      "Enter a string:  bikash.123@gmail.com\n"
     ]
    },
    {
     "name": "stdout",
     "output_type": "stream",
     "text": [
      "Extracted alphabets from the string:  bikashgmailcom\n"
     ]
    }
   ],
   "source": [
    "#25. Extract all alphabets from a string.\n",
    "\n",
    "s=input(\"Enter a string: \")\n",
    "a=str()\n",
    "for i in s:\n",
    "    if i.isalpha() == True:\n",
    "        a=a+i\n",
    "print(\"Extracted alphabets from the string: \",a)"
   ]
  },
  {
   "cell_type": "code",
   "execution_count": 2,
   "id": "441444d9-198f-4322-b6d5-f7fc7d9adb83",
   "metadata": {},
   "outputs": [
    {
     "name": "stdin",
     "output_type": "stream",
     "text": [
      "Enter a string:  Bikash Chandra Prusty\n"
     ]
    },
    {
     "name": "stdout",
     "output_type": "stream",
     "text": [
      "Number of uppercase letters:  3\n"
     ]
    }
   ],
   "source": [
    "#26. Count the number of uppercase letters in a string.\n",
    "\n",
    "s=input(\"Enter a string: \")\n",
    "ctr=0\n",
    "for i in s:\n",
    "    if i.isupper() == True:\n",
    "        ctr+=1\n",
    "print(\"Number of uppercase letters: \",ctr)"
   ]
  },
  {
   "cell_type": "code",
   "execution_count": 3,
   "id": "ea5c5b33-6ac8-4136-b8b4-5ff49241735b",
   "metadata": {},
   "outputs": [
    {
     "name": "stdin",
     "output_type": "stream",
     "text": [
      "Enter a string:  Bikash Prusty\n"
     ]
    },
    {
     "name": "stdout",
     "output_type": "stream",
     "text": [
      "Number of uppercase letters:  10\n"
     ]
    }
   ],
   "source": [
    "#27. Count the number of lowercase letters in a string.\n",
    "\n",
    "s=input(\"Enter a string: \")\n",
    "ctr=0\n",
    "for i in s:\n",
    "    if i.islower() == True:\n",
    "        ctr+=1\n",
    "print(\"Number of uppercase letters: \",ctr)"
   ]
  },
  {
   "cell_type": "code",
   "execution_count": 25,
   "id": "30359592-6ce2-422b-9019-c7ea1a6bee32",
   "metadata": {},
   "outputs": [
    {
     "name": "stdin",
     "output_type": "stream",
     "text": [
      "Enter a string:  Bikash Prusty\n"
     ]
    },
    {
     "name": "stdout",
     "output_type": "stream",
     "text": [
      "Swaped case string:  bIKASH pRUSTY\n"
     ]
    }
   ],
   "source": [
    "#28. Swap the case of each character in a string.\n",
    "\n",
    "s = input(\"Enter a string: \")\n",
    "print(\"Swaped case string: \", s.swapcase())"
   ]
  },
  {
   "cell_type": "code",
   "execution_count": 29,
   "id": "07c3ed48-7075-4fc4-9c39-ed79c2fd681c",
   "metadata": {},
   "outputs": [
    {
     "name": "stdin",
     "output_type": "stream",
     "text": [
      "Enter a string:  Bikash is a data scientist\n",
      "Enter word to be removed:  data\n"
     ]
    },
    {
     "name": "stdout",
     "output_type": "stream",
     "text": [
      "Result:  Bikash is a  scientist\n"
     ]
    }
   ],
   "source": [
    "#29. Remove a specific word from a string.\n",
    "\n",
    "s = input(\"Enter a string: \")\n",
    "w = input(\"Enter word to be removed: \")\n",
    "print(\"Result: \",s.replace(w,\"\"))"
   ]
  },
  {
   "cell_type": "code",
   "execution_count": 31,
   "id": "9c1d5903-73c4-4f78-a4e7-c2b4a7c7c125",
   "metadata": {},
   "outputs": [
    {
     "name": "stdin",
     "output_type": "stream",
     "text": [
      "Enter an email-id:  bikash.prusty\n"
     ]
    },
    {
     "name": "stdout",
     "output_type": "stream",
     "text": [
      "Invalid email-id\n"
     ]
    }
   ],
   "source": [
    "#30. Check if a string is a valid email address.\n",
    "\n",
    "import re \n",
    "\n",
    "def is_valid_email(email):\n",
    "    pattern = r'^[\\w\\.-]+@[\\w\\.-]+\\.\\w+$'  \n",
    "    if re.match(pattern, email):\n",
    "        return True\n",
    "    else:\n",
    "        return False\n",
    "\n",
    "\n",
    "email = input(\"Enter an email-id: \")\n",
    "result = is_valid_email(email)\n",
    "\n",
    "if result == True:\n",
    "    print(\"Valid emailid\")\n",
    "else:\n",
    "    print(\"Invalid email-id\")"
   ]
  },
  {
   "cell_type": "code",
   "execution_count": 33,
   "id": "dde14bce-863e-4ac7-b8be-609443a6851a",
   "metadata": {},
   "outputs": [
    {
     "name": "stdin",
     "output_type": "stream",
     "text": [
      "Enter an email-id:  bikash.prusty@gmail.com\n"
     ]
    },
    {
     "name": "stdout",
     "output_type": "stream",
     "text": [
      "Username:  bikash.prusty\n"
     ]
    }
   ],
   "source": [
    "#31. Extract the username from an email address string.\n",
    "\n",
    "email = input(\"Enter an email-id: \")\n",
    "print(\"Username: \", email.split(\"@\")[0])"
   ]
  },
  {
   "cell_type": "code",
   "execution_count": 34,
   "id": "6d9f667e-1e3a-4b60-8e0d-c9a95f4b0c56",
   "metadata": {},
   "outputs": [
    {
     "name": "stdin",
     "output_type": "stream",
     "text": [
      "Enter an email-id:  bikash.prusty@rediffmail.com\n"
     ]
    },
    {
     "name": "stdout",
     "output_type": "stream",
     "text": [
      "Domain Name:  rediffmail.com\n"
     ]
    }
   ],
   "source": [
    "#32. Extract the domain name from an email address string.\n",
    "\n",
    "email = input(\"Enter an email-id: \")\n",
    "print(\"Domain Name: \", email.split(\"@\")[1])"
   ]
  },
  {
   "cell_type": "code",
   "execution_count": 40,
   "id": "a16f0b84-6a6e-4020-8cf0-c6a4f3c56898",
   "metadata": {},
   "outputs": [
    {
     "name": "stdin",
     "output_type": "stream",
     "text": [
      "Enter a string:  Hello   World!\n"
     ]
    },
    {
     "name": "stdout",
     "output_type": "stream",
     "text": [
      "Hello World!\n"
     ]
    }
   ],
   "source": [
    "#33. Replace multiple spaces in a string with a single space.\n",
    "\n",
    "s = input(\"Enter a string: \")\n",
    "print(' '.join(s.split()))"
   ]
  },
  {
   "cell_type": "code",
   "execution_count": 47,
   "id": "48334b32-06c6-4f7f-bcb6-515d61afcf7c",
   "metadata": {},
   "outputs": [
    {
     "name": "stdin",
     "output_type": "stream",
     "text": [
      "Enter URL:  https://gray-pilot-gdauu.pwskills.app/lab/tree/work/20th_Aug_Python_Basic_Datatypes.ipynb\n"
     ]
    },
    {
     "name": "stdout",
     "output_type": "stream",
     "text": [
      "URL is valid\n"
     ]
    }
   ],
   "source": [
    "#34. Check if a string is a valid URL.\n",
    "\n",
    "#!pip install validators\n",
    "\n",
    "import validators\n",
    "\n",
    "web = input(\"Enter URL: \")\n",
    "\n",
    "validation = validators.url(web)\n",
    "if validation:\n",
    "    print(\"URL is valid\")\n",
    "else:\n",
    "    print(\"URL is invalid\")"
   ]
  },
  {
   "cell_type": "code",
   "execution_count": 48,
   "id": "e47ad9f7-91c1-4af1-8ea2-01e3cc1e1258",
   "metadata": {},
   "outputs": [
    {
     "name": "stdin",
     "output_type": "stream",
     "text": [
      "Enter URL:  ftp://microsoft.com\n"
     ]
    },
    {
     "name": "stdout",
     "output_type": "stream",
     "text": [
      "Protocol:  ftp\n"
     ]
    }
   ],
   "source": [
    "#35. Extract the protocol (http or https) from a URL string.\n",
    "\n",
    "web = input(\"Enter URL: \")\n",
    "print(\"Protocol: \",web.split(\"://\")[0])"
   ]
  },
  {
   "cell_type": "code",
   "execution_count": 50,
   "id": "214c6a59-261a-4a9b-a696-aeaca82ed9d4",
   "metadata": {},
   "outputs": [
    {
     "name": "stdin",
     "output_type": "stream",
     "text": [
      "Enter a string:  bikash\n"
     ]
    },
    {
     "name": "stdout",
     "output_type": "stream",
     "text": [
      "{'b': 1, 'i': 1, 'k': 1, 'a': 1, 's': 1, 'h': 1}\n"
     ]
    }
   ],
   "source": [
    "#36. Find the frequency of each character in a string.\n",
    "\n",
    "s = input(\"Enter a string: \")\n",
    "dict = {}\n",
    "for i in s:\n",
    "    if i in dict:\n",
    "        dict[i] += 1\n",
    "    else:\n",
    "        dict[i] = 1\n",
    " \n",
    "print(dict)"
   ]
  },
  {
   "cell_type": "code",
   "execution_count": 59,
   "id": "f789ccf0-a1e7-4dda-a8c4-9925029f8a0c",
   "metadata": {},
   "outputs": [
    {
     "name": "stdin",
     "output_type": "stream",
     "text": [
      "Enter a string:  Bikash@123. Hello World!\n"
     ]
    },
    {
     "name": "stdout",
     "output_type": "stream",
     "text": [
      "Bikash123 Hello World\n"
     ]
    }
   ],
   "source": [
    "#37. Remove all punctuation from a string.\n",
    "\n",
    "import string\n",
    "\n",
    "s = input(\"Enter a string: \")\n",
    "\n",
    "punc = string.punctuation\n",
    "\n",
    "for s1 in s:\n",
    "    if s1 in punc:\n",
    "        s=s.replace(s1,\"\")\n",
    "    else:\n",
    "        continue\n",
    "print(s)"
   ]
  },
  {
   "cell_type": "code",
   "execution_count": 62,
   "id": "cac330d8-8b0e-4a9c-80c6-b9899e45ad5d",
   "metadata": {},
   "outputs": [
    {
     "name": "stdin",
     "output_type": "stream",
     "text": [
      "Enter a string:  Bikash8978\n"
     ]
    },
    {
     "name": "stdout",
     "output_type": "stream",
     "text": [
      "Bikash8978 does not contain only digits\n"
     ]
    }
   ],
   "source": [
    "#38. Check if a string contains only digits.\n",
    "\n",
    "s = input(\"Enter a string: \")\n",
    "if s.isnumeric() == True:\n",
    "    print(s,\"contains only digits\")\n",
    "else:\n",
    "      print(s,\"does not contain only digits\")"
   ]
  },
  {
   "cell_type": "code",
   "execution_count": 64,
   "id": "74b03158-4a7d-4a79-9898-d3b80034fb23",
   "metadata": {},
   "outputs": [
    {
     "name": "stdin",
     "output_type": "stream",
     "text": [
      "Enter a string:  bikash\n"
     ]
    },
    {
     "name": "stdout",
     "output_type": "stream",
     "text": [
      "bikash contains only alphabets\n"
     ]
    }
   ],
   "source": [
    "#39. Check if a string contains only alphabets.\n",
    "\n",
    "s = input(\"Enter a string: \")\n",
    "if s.isalpha() == True:\n",
    "    print(s,\"contains only alphabets\")\n",
    "else:\n",
    "      print(s,\"does not contain only alphabets\")"
   ]
  },
  {
   "cell_type": "code",
   "execution_count": 67,
   "id": "ff8fc17c-76d2-440c-bd69-0cf66af6a565",
   "metadata": {},
   "outputs": [
    {
     "name": "stdin",
     "output_type": "stream",
     "text": [
      "Enter a string:  bikash\n"
     ]
    },
    {
     "name": "stdout",
     "output_type": "stream",
     "text": [
      "['b', 'i', 'k', 'a', 's', 'h']\n"
     ]
    }
   ],
   "source": [
    "#40. Convert a string to a list of characters.\n",
    "\n",
    "s = input(\"Enter a string: \")\n",
    "lst = []\n",
    "for c in s:\n",
    "    lst.append(c)\n",
    "print(lst)"
   ]
  },
  {
   "cell_type": "code",
   "execution_count": 73,
   "id": "a34f71b2-fa71-4e4d-bb98-bd6c60520792",
   "metadata": {},
   "outputs": [
    {
     "name": "stdin",
     "output_type": "stream",
     "text": [
      "Enter first string:  silent\n",
      "Enter second string:  listen\n"
     ]
    },
    {
     "name": "stdout",
     "output_type": "stream",
     "text": [
      "Strings are anagrams\n"
     ]
    }
   ],
   "source": [
    "#41. Check if two strings are anagrams.\n",
    "\n",
    "s1 = input('Enter first string: ')\n",
    "s2 = input('Enter second string: ')\n",
    "\n",
    "if sorted(s1) == sorted(s2):\n",
    "    print(\"Strings are anagrams\")\n",
    "else:\n",
    "    print(\"Strings are not anagrams\")"
   ]
  },
  {
   "cell_type": "code",
   "execution_count": 23,
   "id": "658cea83-55d2-48bc-b533-9b40cbacccad",
   "metadata": {},
   "outputs": [
    {
     "name": "stdin",
     "output_type": "stream",
     "text": [
      "Enter a string:  PWSkills\n",
      "Enter shift:  3\n"
     ]
    },
    {
     "name": "stdout",
     "output_type": "stream",
     "text": [
      "Caser Cipher:  MTPhfiip\n"
     ]
    }
   ],
   "source": [
    "#42. Encode a string using a Caesar cipher.\n",
    "\n",
    "s = input(\"Enter a string: \")\n",
    "sft = int(input(\"Enter shift: \"))\n",
    "\n",
    "encoded_text = \"\"\n",
    "\n",
    "for c in s:\n",
    "    if c.isalpha() is True:\n",
    "        if c.isupper():\n",
    "            encoded_char = chr((ord(c) - sft - ord('A')) % 26 + ord('A'))\n",
    "        elif c.islower():\n",
    "            encoded_char = chr((ord(c) - sft - ord('a')) % 26 + ord('a'))\n",
    "        else:\n",
    "            encoded_char = c\n",
    "    encoded_text+=encoded_char\n",
    "\n",
    "print(\"Caser Cipher: \",encoded_text)"
   ]
  },
  {
   "cell_type": "code",
   "execution_count": 25,
   "id": "3de37b9e-a322-412d-8db3-874d8f33c6f8",
   "metadata": {},
   "outputs": [
    {
     "name": "stdin",
     "output_type": "stream",
     "text": [
      "Enter Caser Cipher:  MTPhfiip\n",
      "Enter shift:  3\n"
     ]
    },
    {
     "name": "stdout",
     "output_type": "stream",
     "text": [
      "Decoded Caser Cipher:  PWSkills\n"
     ]
    }
   ],
   "source": [
    "#43. Decode a Caesar cipher encoded string.\n",
    "\n",
    "s = input(\"Enter Caser Cipher: \")\n",
    "sft = int(input(\"Enter shift: \"))\n",
    "\n",
    "encoded_text = \"\"\n",
    "\n",
    "for c in s:\n",
    "    if c.isalpha() is True:\n",
    "        if c.isupper():\n",
    "            encoded_char = chr((ord(c) + sft - ord('A')) % 26 + ord('A'))\n",
    "        elif c.islower():\n",
    "            encoded_char = chr((ord(c) + sft - ord('a')) % 26 + ord('a'))\n",
    "        else:\n",
    "            encoded_char = c\n",
    "    encoded_text+=encoded_char\n",
    "\n",
    "print(\"Decoded Caser Cipher: \",encoded_text)"
   ]
  },
  {
   "cell_type": "code",
   "execution_count": 8,
   "id": "c9f179df-4c18-424c-aaf6-2cdbf996ead9",
   "metadata": {},
   "outputs": [
    {
     "name": "stdin",
     "output_type": "stream",
     "text": [
      "Enter a string:  hi hi how hi how are you \n"
     ]
    },
    {
     "name": "stdout",
     "output_type": "stream",
     "text": [
      "Most frequent word:  hi\n"
     ]
    }
   ],
   "source": [
    "#44. Find the most frequent word in a string.\n",
    "\n",
    "from collections import Counter\n",
    "\n",
    "s=input(\"Enter a string: \")\n",
    "words = s.split()\n",
    "word_counter = Counter(words)\n",
    "most_common_word = word_counter.most_common(1)[0][0]\n",
    "print(\"Most frequent word: \",most_common_word)"
   ]
  },
  {
   "cell_type": "code",
   "execution_count": 12,
   "id": "974dc891-6377-4e02-ace5-f7b3cedc1f83",
   "metadata": {},
   "outputs": [
    {
     "name": "stdin",
     "output_type": "stream",
     "text": [
      "Enter a string hello hello how are you you\n"
     ]
    },
    {
     "name": "stdout",
     "output_type": "stream",
     "text": [
      "List of unique words:  {'how', 'you', 'are', 'hello'}\n"
     ]
    }
   ],
   "source": [
    "#45. Find all unique words in a string.\n",
    "\n",
    "s = input(\"Enter a string\")\n",
    "print(\"List of unique words: \", set(s.split()))"
   ]
  },
  {
   "cell_type": "code",
   "execution_count": 21,
   "id": "edb68242-e1ff-407d-ad89-7df4dddf52c7",
   "metadata": {},
   "outputs": [
    {
     "name": "stdin",
     "output_type": "stream",
     "text": [
      "Enter a string:  bikash chandra prusty\n"
     ]
    },
    {
     "name": "stdout",
     "output_type": "stream",
     "text": [
      "bikash has 2 syllables\n",
      "chandra has 2 syllables\n",
      "prusty has 1 syllables\n"
     ]
    }
   ],
   "source": [
    "#46. Count the number of syllables in a string.\n",
    "\n",
    "s = input(\"Enter a string: \")\n",
    "lst = s.split()\n",
    "vowels = \"aeiouAEIOU\"\n",
    "for l in lst:\n",
    "    ctr=0\n",
    "    for v in vowels:\n",
    "        ctr=ctr+l.count(v)\n",
    "    print(l,\"has\",ctr,\"syllables\")\n",
    "\n"
   ]
  },
  {
   "cell_type": "code",
   "execution_count": 27,
   "id": "889116b8-7733-402f-b065-2a14d7dbd048",
   "metadata": {},
   "outputs": [
    {
     "name": "stdin",
     "output_type": "stream",
     "text": [
      "Enter a string:  bikash chandra prusty\n"
     ]
    },
    {
     "name": "stdout",
     "output_type": "stream",
     "text": [
      "String does not contain any special characters\n"
     ]
    }
   ],
   "source": [
    "#47. Check if a string contains any special characters.\n",
    "\n",
    "s = input(\"Enter a string: \")\n",
    "if s.isalpha() or s.isnumeric() or s.find(' ')!=-1:\n",
    "    print(\"String does not contain any special characters\")\n",
    "else:\n",
    "    print(\"String contains special characters\")"
   ]
  },
  {
   "cell_type": "code",
   "execution_count": 37,
   "id": "6997b424-751e-4d4a-8694-fc30825ae07c",
   "metadata": {},
   "outputs": [
    {
     "name": "stdin",
     "output_type": "stream",
     "text": [
      "Enter a string:  bikash is an an aspiring person\n",
      "Enter the postion of word to be deleted:  3\n"
     ]
    },
    {
     "name": "stdout",
     "output_type": "stream",
     "text": [
      "Result:  bikash is an aspiring person \n"
     ]
    }
   ],
   "source": [
    "#48. Remove the nth word from a string.\n",
    "\n",
    "s = input(\"Enter a string: \")\n",
    "n = int(input(\"Enter the postion of word to be deleted: \"))\n",
    "\n",
    "lst = s.split()\n",
    "for l in lst:\n",
    "    if lst.index(l)+1 == n:\n",
    "        lst.remove(l)\n",
    "\n",
    "nstr = \"\"\n",
    "for l in lst:\n",
    "    nstr=nstr+l+' '\n",
    "\n",
    "print(\"Result: \",nstr)"
   ]
  },
  {
   "cell_type": "code",
   "execution_count": 38,
   "id": "15b5b92b-4bdd-4c39-bac3-1e740110af9c",
   "metadata": {},
   "outputs": [
    {
     "name": "stdin",
     "output_type": "stream",
     "text": [
      "Enter a string:  hello are you?\n",
      "Enter word to be inserted:  how\n",
      "Enter the postion of word to be inserted:  2\n"
     ]
    },
    {
     "name": "stdout",
     "output_type": "stream",
     "text": [
      "Result:  hello how are you? \n"
     ]
    }
   ],
   "source": [
    "#49. Insert a word at the nth position in a string.\n",
    "\n",
    "s = input(\"Enter a string: \")\n",
    "w = input(\"Enter word to be inserted: \")\n",
    "n = int(input(\"Enter the postion of word to be inserted: \"))\n",
    "\n",
    "lst = s.split()\n",
    "lst.insert(n-1,w)\n",
    "\n",
    "nstr = \"\"\n",
    "for l in lst:\n",
    "    nstr=nstr+l+' '\n",
    "\n",
    "print(\"Result: \",nstr)"
   ]
  },
  {
   "cell_type": "code",
   "execution_count": 54,
   "id": "1fca4d7a-9b92-4c21-b8ff-a09d0ea310a1",
   "metadata": {},
   "outputs": [
    {
     "name": "stdout",
     "output_type": "stream",
     "text": [
      "['Name', ' Age', ' Country']\n",
      "['John', ' 25', ' USA']\n",
      "['Alice', ' 30', ' Canada']\n",
      "['Bob', ' 22', ' UK']\n"
     ]
    }
   ],
   "source": [
    "#50. Convert a CSV string to a list of lists.\n",
    "\n",
    "s = \"Name, Age, Country\\nJohn, 25, USA\\nAlice, 30, Canada\\nBob, 22, UK\"\n",
    "lines = s.split(\"\\n\")\n",
    "\n",
    "lst = []\n",
    "for line in lines:\n",
    "  field = line.split(\",\")\n",
    "  lst.append(field)\n",
    "\n",
    "for row in lst:\n",
    "  print(row)"
   ]
  },
  {
   "cell_type": "markdown",
   "id": "fe1aa372-ced5-4b8d-adad-c1c3425c6b36",
   "metadata": {},
   "source": [
    "#### List Based Practice Problem"
   ]
  },
  {
   "cell_type": "code",
   "execution_count": 11,
   "id": "3c28379f-a348-4456-8a83-843a3658f5a4",
   "metadata": {},
   "outputs": [
    {
     "name": "stdout",
     "output_type": "stream",
     "text": [
      "Result:  [1, 2, 3, 4, 5, 6, 7, 8, 9, 10]\n"
     ]
    }
   ],
   "source": [
    "#1. Create a list with integers from 1 to 10.\n",
    "\n",
    "lst=[]\n",
    "for i in range(1,11):\n",
    "    lst.append(i)\n",
    "print(\"Result: \",lst)  "
   ]
  },
  {
   "cell_type": "code",
   "execution_count": 12,
   "id": "70e400c8-f6c5-4917-84fb-f7c0f58db7a1",
   "metadata": {},
   "outputs": [
    {
     "name": "stdout",
     "output_type": "stream",
     "text": [
      "List:  [1, 2, 3, 4, 5, 6, 10]\n",
      "Length:  7\n"
     ]
    }
   ],
   "source": [
    "#2. Find the length of a list without using the `len()` function.\n",
    "\n",
    "l=[1,2,3,4,5,6,10]\n",
    "print(\"List: \",l)\n",
    "print(\"Length: \",len(l))"
   ]
  },
  {
   "cell_type": "code",
   "execution_count": 13,
   "id": "4d2005b8-049d-4a17-8638-526bf51df20e",
   "metadata": {},
   "outputs": [
    {
     "name": "stdout",
     "output_type": "stream",
     "text": [
      "List:  [1, 2, 3, 4, 5, 6, 7, 8]\n",
      "Element to be appended:  9\n",
      "Result:  [1, 2, 3, 4, 5, 6, 7, 8, 9]\n"
     ]
    }
   ],
   "source": [
    "#3. Append an element to the end of a list.\n",
    "\n",
    "l=[1,2,3,4,5,6,7,8]\n",
    "ele = 9\n",
    "print(\"List: \",l)\n",
    "print(\"Element to be appended: \", ele)\n",
    "l.append(ele)\n",
    "print(\"Result: \",l)"
   ]
  },
  {
   "cell_type": "code",
   "execution_count": 14,
   "id": "36a380e9-8cff-4313-92c6-c7da58a11883",
   "metadata": {},
   "outputs": [
    {
     "name": "stdout",
     "output_type": "stream",
     "text": [
      "List:  [1, 2, 3, 4, 5, 6, 7, 8]\n",
      "Element to be inserted:  9 at position:  2\n",
      "Result:  [1, 9, 2, 3, 4, 5, 6, 7, 8]\n"
     ]
    }
   ],
   "source": [
    "#4. Insert an element at a specific index in a list.\n",
    "\n",
    "l=[1,2,3,4,5,6,7,8]\n",
    "ele = 9\n",
    "pos=2\n",
    "print(\"List: \",l)\n",
    "print(\"Element to be inserted: \",ele,\"at position: \",pos)\n",
    "l.insert(pos-1,ele)\n",
    "print(\"Result: \",l)"
   ]
  },
  {
   "cell_type": "code",
   "execution_count": 18,
   "id": "4dc7d063-81f9-4e14-a1cf-788436ac047b",
   "metadata": {},
   "outputs": [
    {
     "name": "stdout",
     "output_type": "stream",
     "text": [
      "List:  [1, 2, 3, 45, 6]\n",
      "Element to be removed:  3\n",
      "Result:  [1, 2, 45, 6]\n"
     ]
    }
   ],
   "source": [
    "#5. Remove an element from a list by its value.\n",
    "\n",
    "l=[1,2,3,45,6]\n",
    "re = 3\n",
    "print(\"List: \",l)\n",
    "print(\"Element to be removed: \",re)\n",
    "l.remove(re)\n",
    "print(\"Result: \",l)"
   ]
  },
  {
   "cell_type": "code",
   "execution_count": 19,
   "id": "92f480ef-c851-4186-87ca-782d0b6371f1",
   "metadata": {},
   "outputs": [
    {
     "name": "stdout",
     "output_type": "stream",
     "text": [
      "List:  [1, 2, 3, 45, 6]\n",
      "Index of element to be removed:  3\n",
      "Result:  [1, 2, 3, 6]\n"
     ]
    }
   ],
   "source": [
    "#6. Remove an element from a list by its index.\n",
    "\n",
    "l=[1,2,3,45,6]\n",
    "idx = 3\n",
    "print(\"List: \",l)\n",
    "print(\"Index of element to be removed: \",idx)\n",
    "l.pop(idx)\n",
    "print(\"Result: \",l)"
   ]
  },
  {
   "cell_type": "code",
   "execution_count": 23,
   "id": "4de4bdc1-61cc-4923-be46-c9b40c0c8dcb",
   "metadata": {},
   "outputs": [
    {
     "name": "stdout",
     "output_type": "stream",
     "text": [
      "List:  [1, 2, 3, 45, 6]\n"
     ]
    },
    {
     "name": "stdin",
     "output_type": "stream",
     "text": [
      "Enter element to be checked for existence:  99\n"
     ]
    },
    {
     "name": "stdout",
     "output_type": "stream",
     "text": [
      "99 does not esists in [1, 2, 3, 45, 6]\n"
     ]
    }
   ],
   "source": [
    "#7. Check if an element exists in a list.\n",
    "\n",
    "l=[1,2,3,45,6]\n",
    "print(\"List: \",l)\n",
    "ele = int(input(\"Enter element to be checked for existence: \"))\n",
    "\n",
    "if ele in l:\n",
    "    print(ele,\"exists in\",l)\n",
    "else:\n",
    "    print(ele,\"does not esists in\",l)"
   ]
  },
  {
   "cell_type": "code",
   "execution_count": 29,
   "id": "a5e6676b-1ae9-44c1-acfb-65389e7a684e",
   "metadata": {},
   "outputs": [
    {
     "name": "stdout",
     "output_type": "stream",
     "text": [
      "List:  [1, 2, 2, 3, 45, 6]\n",
      "Index of first occurance of 2 in [1, 2, 2, 3, 45, 6] :  1\n"
     ]
    }
   ],
   "source": [
    "#8. Find the index of the first occurrence of an element in a list.\n",
    "\n",
    "l=[1,2,2,3,45,6]\n",
    "print(\"List: \",l)\n",
    "ele = 2\n",
    "print(\"Index of first occurance of\",ele,\"in\",l,\": \",l.index(ele))"
   ]
  },
  {
   "cell_type": "code",
   "execution_count": 31,
   "id": "dd069602-8c45-4eb3-b34b-e9b7556c61a2",
   "metadata": {},
   "outputs": [
    {
     "name": "stdout",
     "output_type": "stream",
     "text": [
      "List:  [1, 2, 2, 3, 45, 6]\n",
      "Index of first occurance of 2 in [1, 2, 2, 3, 45, 6] :  1\n"
     ]
    }
   ],
   "source": [
    "#9. Count the occurrences of an element in a list.\n",
    "\n",
    "l=[1,2,2,3,45,6]\n",
    "print(\"List: \",l)\n",
    "ele = 2\n",
    "print(\"Index of first occurance of\",ele,\"in\",l,\": \",l.index(ele))"
   ]
  },
  {
   "cell_type": "code",
   "execution_count": 32,
   "id": "e9934c60-1667-4e9e-a505-1bdf35e37f4f",
   "metadata": {},
   "outputs": [
    {
     "name": "stdout",
     "output_type": "stream",
     "text": [
      "List:  [1, 2, 2, 3, 45, 6]\n",
      "List in reverse  [6, 45, 3, 2, 2, 1]\n"
     ]
    }
   ],
   "source": [
    "#10. Reverse the order of elements in a list.\n",
    "\n",
    "l=[1,2,2,3,45,6]\n",
    "print(\"List: \",l)\n",
    "print(\"List in reverse \",l[::-1])"
   ]
  },
  {
   "cell_type": "code",
   "execution_count": 18,
   "id": "028944a3-99bb-440e-8ff5-20ac76f57b77",
   "metadata": {},
   "outputs": [
    {
     "name": "stdout",
     "output_type": "stream",
     "text": [
      "List:  [1, 2, 3, 4, 66, 0, -34]\n",
      "Sorted List:  [-34, 0, 1, 2, 3, 4, 66]\n"
     ]
    }
   ],
   "source": [
    "#11. Sort a list in ascending order.\n",
    "\n",
    "lst = [1,2,3,4,66,0,-34]\n",
    "print(\"List: \",lst)\n",
    "lst.sort()\n",
    "print(\"Sorted List: \",lst)"
   ]
  },
  {
   "cell_type": "code",
   "execution_count": 1,
   "id": "15d0e667-5e21-48af-ac2e-209dabdbe1f9",
   "metadata": {},
   "outputs": [
    {
     "name": "stdout",
     "output_type": "stream",
     "text": [
      "List:  [1, 2, 3, 4, 66, 0, -34]\n",
      "Sorted List in descending order:  [66, 4, 3, 2, 1, 0, -34]\n"
     ]
    }
   ],
   "source": [
    "#12. Sort a list in descending order.\n",
    "\n",
    "lst = [1,2,3,4,66,0,-34]\n",
    "print(\"List: \",lst)\n",
    "lst.sort(reverse=True)\n",
    "print(\"Sorted List in descending order: \",lst)"
   ]
  },
  {
   "cell_type": "code",
   "execution_count": 6,
   "id": "c99399f9-9c04-48ca-92c2-cca443a9e112",
   "metadata": {},
   "outputs": [
    {
     "name": "stdout",
     "output_type": "stream",
     "text": [
      "List of even numbers from 1 to 20:  [2, 4, 6, 8, 10, 12, 14, 16, 18, 20]\n"
     ]
    }
   ],
   "source": [
    "#13. Create a list of even numbers from 1 to 20.\n",
    "\n",
    "lst = []\n",
    "for i in range(2,21,2):\n",
    "    lst.append(i)\n",
    "    \n",
    "print(\"List of even numbers from 1 to 20: \",lst)"
   ]
  },
  {
   "cell_type": "code",
   "execution_count": 8,
   "id": "a2d84dba-4460-4e6f-869f-2ffb6a33b71d",
   "metadata": {},
   "outputs": [
    {
     "name": "stdout",
     "output_type": "stream",
     "text": [
      "List of odd numbers from 1 to 20:  [1, 3, 5, 7, 9, 11, 13, 15, 17, 19]\n"
     ]
    }
   ],
   "source": [
    "#14. Create a list of odd numbers from 1 to 20.\n",
    "\n",
    "lst = []\n",
    "for i in range(1,21,2):\n",
    "    lst.append(i)\n",
    "    \n",
    "print(\"List of odd numbers from 1 to 20: \",lst)\n"
   ]
  },
  {
   "cell_type": "code",
   "execution_count": 16,
   "id": "365cb14c-a52c-45a7-b44f-2fa49dcc52cc",
   "metadata": {},
   "outputs": [
    {
     "name": "stdout",
     "output_type": "stream",
     "text": [
      "Sum of all elements in [1, 2, 34, 5, 3, 5, 5] is:  55\n"
     ]
    }
   ],
   "source": [
    "#15. Find the sum of all elements in a list.\n",
    "\n",
    "lst = [1,2,34,5,3,5,5]\n",
    "s=0\n",
    "for x in range(0,len(lst)):\n",
    "    s+=lst[x]\n",
    "print(\"Sum of all elements in\",lst,\"is: \",s) "
   ]
  },
  {
   "cell_type": "code",
   "execution_count": 19,
   "id": "f13ce726-da89-4aab-9ca2-95a5738d9edc",
   "metadata": {},
   "outputs": [
    {
     "name": "stdout",
     "output_type": "stream",
     "text": [
      "Maximum value present in [1, 2, -34, 5, 99] is 99\n"
     ]
    }
   ],
   "source": [
    "#16. Find the maximum value in a list.\n",
    "\n",
    "lst = [1,2,-34, 5, 99]\n",
    "print(\"Maximum value present in\",lst,\"is\",max(lst))"
   ]
  },
  {
   "cell_type": "code",
   "execution_count": 22,
   "id": "f94bfd00-a032-4de1-b303-ff181184ad07",
   "metadata": {},
   "outputs": [
    {
     "name": "stdout",
     "output_type": "stream",
     "text": [
      "Minimum value present in [1, 2, -34, 5, 99] is -34\n"
     ]
    }
   ],
   "source": [
    "#17. Find the maximum value in a list.\n",
    "\n",
    "lst = [1,2,-34, 5, 99]\n",
    "print(\"Minimum value present in\",lst,\"is\",min(lst))"
   ]
  },
  {
   "cell_type": "code",
   "execution_count": 21,
   "id": "67dfae0f-13c6-49d8-ba6c-87cfe0bd9a92",
   "metadata": {},
   "outputs": [
    {
     "name": "stdout",
     "output_type": "stream",
     "text": [
      "List of squares of numbers from 1 to 10:  [1, 4, 9, 16, 25, 36, 49, 64, 81, 100]\n"
     ]
    }
   ],
   "source": [
    "#18. Create a list of squares of numbers from 1 to 10.\n",
    "\n",
    "lst=[]\n",
    "for i in range(1,11):\n",
    "    lst.append(i*i)\n",
    "print(\"List of squares of numbers from 1 to 10: \",lst)  "
   ]
  },
  {
   "cell_type": "code",
   "execution_count": 40,
   "id": "19b30b4b-fa87-47fc-83cc-a0a3ce8c3408",
   "metadata": {},
   "outputs": [
    {
     "name": "stdout",
     "output_type": "stream",
     "text": [
      "List of 10 between 1 to 100 random numbers:  [57, 61, 95, 27, 19, 55, 75, 19, 29, 28]\n"
     ]
    }
   ],
   "source": [
    "#19. Create a list of random numbers.\n",
    "\n",
    "import random\n",
    "lst = []\n",
    "for i in range(10):\n",
    "    lst.append(random.randint(1,100))\n",
    "print(\"List of 10 between 1 to 100 random numbers: \", lst)"
   ]
  },
  {
   "cell_type": "code",
   "execution_count": 38,
   "id": "ae096473-a234-457e-8032-2769fcb14cc1",
   "metadata": {},
   "outputs": [
    {
     "name": "stdout",
     "output_type": "stream",
     "text": [
      "Original List:  [1, 2, 3, 1, 3, 3, 5, 6, 5, 7, 5]\n",
      "List after removing duplicates:  [1, 2, 3, 5, 6, 7]\n"
     ]
    }
   ],
   "source": [
    "#20. Remove duplicates from a list.\n",
    "\n",
    "lst = [1,2,3,1,3,3,5,6,5,7,5]\n",
    "print(\"Original List: \",lst)\n",
    "print(\"List after removing duplicates: \",list(set(lst)))"
   ]
  },
  {
   "cell_type": "code",
   "execution_count": 49,
   "id": "a6122ba2-10d0-4546-99c1-2c55b648806a",
   "metadata": {},
   "outputs": [
    {
     "name": "stdout",
     "output_type": "stream",
     "text": [
      "Common elements between [2, 9, 4, 5] and [3, 5, 7, 2] are [2, 5]\n"
     ]
    }
   ],
   "source": [
    "#21. Find the common elements between two lists.\n",
    "\n",
    "a=[2,9,4,5]\n",
    "b=[3,5,7,2]\n",
    "print(\"Common elements between\",a,\"and\",b,\"are\",list(set(a).intersection(b)))"
   ]
  },
  {
   "cell_type": "code",
   "execution_count": 51,
   "id": "a8d376bc-1761-4472-b795-72ba33b6b0cb",
   "metadata": {},
   "outputs": [
    {
     "name": "stdout",
     "output_type": "stream",
     "text": [
      "Difference between [2, 9, 4, 5] and [3, 5, 7, 2] are [4, 9]\n"
     ]
    }
   ],
   "source": [
    "#22. Find the difference between two lists.\n",
    "\n",
    "a=[2,9,4,5]\n",
    "b=[3,5,7,2]\n",
    "print(\"Difference between\",a,\"and\",b,\"are\",list(set(a).difference(b)))"
   ]
  },
  {
   "cell_type": "code",
   "execution_count": 52,
   "id": "446ce552-c4a8-464a-ad64-5362ac7fd047",
   "metadata": {},
   "outputs": [
    {
     "name": "stdout",
     "output_type": "stream",
     "text": [
      "List1:  [2, 9, 4, 5]\n",
      "List2:  [3, 5, 7, 2]\n",
      "Merged list:  [2, 9, 4, 5, 3, 5, 7, 2]\n"
     ]
    }
   ],
   "source": [
    "#23. Merge two lists.\n",
    "\n",
    "a=[2,9,4,5]\n",
    "b=[3,5,7,2]\n",
    "print(\"List1: \",a)\n",
    "print(\"List2: \",b)\n",
    "print(\"Merged list: \",a+b)"
   ]
  },
  {
   "cell_type": "code",
   "execution_count": 56,
   "id": "c0d2d715-4f94-40cc-9210-41cd696ba746",
   "metadata": {},
   "outputs": [
    {
     "name": "stdout",
     "output_type": "stream",
     "text": [
      "List:  [1, 2, 5, 7, 9]\n",
      "Elements of list multiplied by 2:  [2, 4, 10, 14, 18]\n"
     ]
    }
   ],
   "source": [
    "#24. Multiply all elements in a list by 2.\n",
    "\n",
    "lst = [1,2,5,7,9]\n",
    "nlst=[]\n",
    "for i in range(len(lst)):\n",
    "    nlst.append(lst[i]*2)\n",
    "\n",
    "print(\"List: \",lst)\n",
    "print(\"Elements of list multiplied by 2: \", nlst)"
   ]
  },
  {
   "cell_type": "code",
   "execution_count": null,
   "id": "882d16f1-0d6c-4cdf-b9b2-1f7c07e76c96",
   "metadata": {},
   "outputs": [],
   "source": [
    "#25. Filter out all even numbers from a list.\n",
    "\n",
    "lst = [1,2,5,7,9]\n",
    "nlst=[]\n",
    "for i in range(len(lst)):\n",
    "    if (lst[i]%2==0)\n",
    "    nlst.append(lst[i]*2)\n",
    "\n",
    "print(\"List: \",lst)\n",
    "print(\"Elements of list multiplied by 2: \", nlst)"
   ]
  },
  {
   "cell_type": "code",
   "execution_count": 1,
   "id": "71192aaf-455f-4b8c-89a9-826fb0c17164",
   "metadata": {},
   "outputs": [
    {
     "name": "stdout",
     "output_type": "stream",
     "text": [
      "List of strings:  ['10', '23', '55', '90', '78']\n",
      "List of in integers:  [10, 23, 55, 90, 78]\n"
     ]
    }
   ],
   "source": [
    "#26. Convert a list of strings to a list of integers.\n",
    "\n",
    "lst = ['10', '23', '55', '90', '78']\n",
    "print(\"List of strings: \", lst)\n",
    "nlst=[]\n",
    "for i in range(len(lst)):\n",
    "    nlst.append(int(lst[i]))\n",
    "print(\"List of in integers: \", nlst)"
   ]
  },
  {
   "cell_type": "code",
   "execution_count": 2,
   "id": "0468a9c8-b316-4ccc-b6c3-31a6102188df",
   "metadata": {},
   "outputs": [
    {
     "name": "stdout",
     "output_type": "stream",
     "text": [
      "List of integers:  [10, 12, 44, 33, 99]\n",
      "List of in integers:  ['10', '12', '44', '33', '99']\n"
     ]
    }
   ],
   "source": [
    "#27. Convert a list of integers to a list of strings.\n",
    "\n",
    "lst = [10,12,44,33,99]\n",
    "print(\"List of integers: \", lst)\n",
    "nlst=[]\n",
    "for i in range(len(lst)):\n",
    "    nlst.append(str(lst[i]))\n",
    "print(\"List of in integers: \", nlst)"
   ]
  },
  {
   "cell_type": "code",
   "execution_count": 23,
   "id": "36e45eeb-35c9-4925-9bf6-9a8170d053ec",
   "metadata": {},
   "outputs": [
    {
     "name": "stdout",
     "output_type": "stream",
     "text": [
      "Nested List:  [[1], [2, 3], [4, 5, 6, 7]]\n",
      "Flatten List:  [1, 2, 3, 4, 5, 6, 7]\n"
     ]
    }
   ],
   "source": [
    "#28. Flatten a nested list.\n",
    "\n",
    "lst = [[1], [2, 3], [4, 5, 6, 7]]\n",
    "print(\"Nested List: \", lst)\n",
    "nlst = []\n",
    "for i in lst:\n",
    "    nlst.extend(i)\n",
    "print(\"Flatten List: \",nlst)"
   ]
  },
  {
   "cell_type": "code",
   "execution_count": 34,
   "id": "48a323e0-edeb-4ad3-a951-d189da84c2e3",
   "metadata": {},
   "outputs": [
    {
     "name": "stdin",
     "output_type": "stream",
     "text": [
      "Enter the count of fibonacci series:  5\n"
     ]
    },
    {
     "name": "stdout",
     "output_type": "stream",
     "text": [
      "[0, 1, 1, 2, 3]\n"
     ]
    }
   ],
   "source": [
    "#29. Create a list of the first 10 Fibonacci numbers.\n",
    "\n",
    "n=int(input('Enter the count of fibonacci series: '))\n",
    "flst = []\n",
    "if n<=0:\n",
    "    print(\"Invalid input!. Please enter a valid positive number.\")\n",
    "elif n==1:\n",
    "    flst.append(0)\n",
    "    print(flst)\n",
    "else:\n",
    "    flst = [0,1]\n",
    "    for i in range(2, n):\n",
    "        next_ele = flst[i-1]+flst[i-2]\n",
    "        flst.append(next_ele)\n",
    "    print(flst)"
   ]
  },
  {
   "cell_type": "code",
   "execution_count": 57,
   "id": "ec4af7c9-f309-415b-834b-76367cc1a78e",
   "metadata": {},
   "outputs": [
    {
     "name": "stdout",
     "output_type": "stream",
     "text": [
      "List:  [1, 2, 3, 4, 5]\n",
      "List is sorted\n"
     ]
    }
   ],
   "source": [
    "#30. Check if a list is sorted.\n",
    "\n",
    "lst = [1,2,3,4,5]\n",
    "print(\"List: \",lst)\n",
    "clst = lst.copy()\n",
    "lst.sort()\n",
    "if clst == lst:\n",
    "    print(\"List is sorted\")\n",
    "else:\n",
    "    print(\"List is not sorted\")"
   ]
  },
  {
   "cell_type": "code",
   "execution_count": 6,
   "id": "81679bc0-a687-48af-9024-d8487f2688a6",
   "metadata": {},
   "outputs": [
    {
     "name": "stdout",
     "output_type": "stream",
     "text": [
      "Existing list:  [1, 2, 3, 4, 5, 6]\n"
     ]
    },
    {
     "name": "stdin",
     "output_type": "stream",
     "text": [
      "Enter number of left positions to be rotated:  3\n"
     ]
    },
    {
     "name": "stdout",
     "output_type": "stream",
     "text": [
      "Rotated list by 3 left positions:  [4, 5, 6, 1, 2, 3]\n"
     ]
    }
   ],
   "source": [
    "#31. Rotate a list to the left by `n` positions.\n",
    "\n",
    "l=[1,2,3,4,5,6]\n",
    "print(\"Existing list: \", l)\n",
    "n = int(input(\"Enter number of left positions to be rotated: \"))\n",
    "l = l[n:] + l[:n]\n",
    "print(\"Rotated list by\",n,\"left positions: \",l)"
   ]
  },
  {
   "cell_type": "code",
   "execution_count": 11,
   "id": "7c5cc4d9-c115-418d-ab91-74a3200aa4a9",
   "metadata": {},
   "outputs": [
    {
     "name": "stdout",
     "output_type": "stream",
     "text": [
      "Existing list:  [1, 2, 3, 4, 5, 6]\n"
     ]
    },
    {
     "name": "stdin",
     "output_type": "stream",
     "text": [
      "Enter number of right positions to be rotated:  2\n"
     ]
    },
    {
     "name": "stdout",
     "output_type": "stream",
     "text": [
      "Rotated list by 2 right positions:  [5, 6, 1, 2, 3, 4]\n"
     ]
    }
   ],
   "source": [
    "#32. Rotate a list to the right by `n` positions.\n",
    "\n",
    "l=[1,2,3,4,5,6]\n",
    "print(\"Existing list: \", l)\n",
    "n = int(input(\"Enter number of right positions to be rotated: \"))\n",
    "pos = len(l)-n\n",
    "l = l[pos:] + l[:pos]\n",
    "print(\"Rotated list by\",n,\"right positions: \",l)"
   ]
  },
  {
   "cell_type": "code",
   "execution_count": 7,
   "id": "1cfd4e7d-a975-46d9-8e22-6062a72189c1",
   "metadata": {},
   "outputs": [
    {
     "name": "stdout",
     "output_type": "stream",
     "text": [
      "List of prime numbers upto 50:  [2, 3, 5, 7, 11, 13, 17, 19, 23, 29, 31, 37, 41, 43, 47]\n"
     ]
    }
   ],
   "source": [
    "#33. Create a list of prime numbers up to 50.\n",
    "\n",
    "lst = []\n",
    "ctr = 0\n",
    "for i in range (1,51):\n",
    "    f=1\n",
    "    ctr=0\n",
    "    while(f<=i):\n",
    "        if (i%f==0):\n",
    "            ctr+=1\n",
    "        f+=1\n",
    "    if(ctr==2):\n",
    "        lst.append(i)\n",
    "print(\"List of prime numbers upto 50: \",lst)"
   ]
  },
  {
   "cell_type": "code",
   "execution_count": 13,
   "id": "2b3985ad-d969-48cc-8af1-804f2d5864b1",
   "metadata": {},
   "outputs": [
    {
     "name": "stdout",
     "output_type": "stream",
     "text": [
      "List:  [1, 2, 3, 4, 5, 6, 7, 8, 9]\n"
     ]
    },
    {
     "name": "stdin",
     "output_type": "stream",
     "text": [
      "Enter chunck size:  3\n"
     ]
    },
    {
     "name": "stdout",
     "output_type": "stream",
     "text": [
      "[1, 2, 3]\n",
      "[4, 5, 6]\n",
      "[7, 8, 9]\n"
     ]
    }
   ],
   "source": [
    "#34. Split a list into chunks of size `n`.\n",
    "\n",
    "lst = [1,2,3,4,5,6,7,8,9]\n",
    "print(\"List: \",lst)\n",
    "n = int(input(\"Enter chunck size: \"))\n",
    "for i in range(0,len(lst), n):\n",
    "    print(lst[i:i+n])    "
   ]
  },
  {
   "cell_type": "code",
   "execution_count": 19,
   "id": "881931b6-0452-492d-a117-f1df4b344ece",
   "metadata": {},
   "outputs": [
    {
     "name": "stdout",
     "output_type": "stream",
     "text": [
      "List:  [1, 2, 3, 5, 8, 9, 41]\n",
      "Second largest element:  9\n"
     ]
    }
   ],
   "source": [
    "#35. Find the second largest number in a list.\n",
    "\n",
    "lst = [1,2,3,5,8,9,41]\n",
    "print(\"List: \",lst)\n",
    "lst.sort(reverse=True)\n",
    "print(\"Second largest element: \", lst[1])"
   ]
  },
  {
   "cell_type": "code",
   "execution_count": 23,
   "id": "b8284af1-0e4c-4b35-bed6-a796c17079eb",
   "metadata": {},
   "outputs": [
    {
     "name": "stdout",
     "output_type": "stream",
     "text": [
      "List:  [1, 2, 3, 4, 5]\n",
      "Square of list:  [1, 4, 9, 16, 25]\n"
     ]
    }
   ],
   "source": [
    "#36. Replace every element in a list with its square.\n",
    "\n",
    "lst = [1,2,3,4,5]\n",
    "print(\"List: \",lst)\n",
    "nlst = []\n",
    "for i in range(len(lst)):\n",
    "    nlst.append(lst[i]**2)\n",
    "print(\"Square of list: \", nlst)"
   ]
  },
  {
   "cell_type": "code",
   "execution_count": 27,
   "id": "1858454a-5a61-4d3a-bfa6-f4f33c0e4bb0",
   "metadata": {},
   "outputs": [
    {
     "name": "stdout",
     "output_type": "stream",
     "text": [
      "List:  ['a', 'b', 'c', 'd', 'e']\n",
      "List-to-dictionary:  {'a': 0, 'b': 1, 'c': 2, 'd': 3, 'e': 4}\n"
     ]
    }
   ],
   "source": [
    "'''37. Convert a list to a dictionary where list elements become keys and their\n",
    "indices become values.'''\n",
    "\n",
    "lst = ['a','b','c','d','e']\n",
    "print(\"List: \",lst)\n",
    "dic = {}\n",
    "for i in range(0,len(lst)):\n",
    "    dic[lst[i]] = i\n",
    "print(\"List-to-dictionary: \",dic)    "
   ]
  },
  {
   "cell_type": "code",
   "execution_count": 29,
   "id": "814a3094-3ddf-4a08-86a7-abf8e61ece15",
   "metadata": {},
   "outputs": [
    {
     "name": "stdout",
     "output_type": "stream",
     "text": [
      "List:  [1, 2, 3, 4, 5, 6, 7, 8, 9, 10]\n",
      "Shuffled list: [7, 9, 10, 2, 3, 5, 1, 6, 4, 8]\n"
     ]
    }
   ],
   "source": [
    "#38. Shuffle the elements of a list randomly.\n",
    "\n",
    "import random\n",
    "lst = [1, 2, 3, 4, 5, 6, 7, 8, 9, 10]\n",
    "print(\"List: \",lst)\n",
    "random.shuffle(lst)\n",
    "print(\"Shuffled list:\", lst)"
   ]
  },
  {
   "cell_type": "code",
   "execution_count": 11,
   "id": "21e988d6-56ae-443e-a7da-dec7a3a8de78",
   "metadata": {},
   "outputs": [
    {
     "name": "stdout",
     "output_type": "stream",
     "text": [
      "List of 10 factorial numbers (0-9):  [1, 1, 2, 6, 24, 120, 720, 5040, 40320, 362880, 3628800]\n"
     ]
    }
   ],
   "source": [
    "#39. Create a list of the first 10 factorial numbers.\n",
    "\n",
    "lst = []\n",
    "for i in range(11):\n",
    "    if i==0 or i==1:\n",
    "        lst.append(1)\n",
    "    else:\n",
    "        f=1\n",
    "        while(i>=1):\n",
    "            f=f*i\n",
    "            i-=1\n",
    "        lst.append(f)\n",
    "print(\"List of 10 factorial numbers (0-9): \",lst)"
   ]
  },
  {
   "cell_type": "code",
   "execution_count": 23,
   "id": "a30b4969-6f5a-4bb8-89c3-60b6c7a2d151",
   "metadata": {},
   "outputs": [
    {
     "name": "stdout",
     "output_type": "stream",
     "text": [
      "List 1:  [2, 9, 4, 5]\n",
      "List 2:  [3, 9, 7, 99]\n",
      "Two lists have atleast one common element\n"
     ]
    }
   ],
   "source": [
    "#40. Check if two lists have at least one element in common.\n",
    "\n",
    "a=[2,9,4,5]\n",
    "b=[3,9,7,99]\n",
    "print(\"List 1: \",a)\n",
    "print(\"List 2: \",b)\n",
    "count = len(list(set(a).intersection(b)))\n",
    "if count >=1:\n",
    "    print(\"Two lists have atleast one common element\")\n",
    "else:\n",
    "    print(\"No common elements betweem two lists\")"
   ]
  },
  {
   "cell_type": "code",
   "execution_count": 24,
   "id": "b832c668-d98c-4874-9fb6-b727219afd28",
   "metadata": {},
   "outputs": [
    {
     "name": "stdout",
     "output_type": "stream",
     "text": [
      "List Elements:  [1, 2, 3, 4, 5, 6]\n",
      "After removing all elements from list:  []\n"
     ]
    }
   ],
   "source": [
    "#41. Remove all elements from a list.\n",
    "\n",
    "l = [1,2,3,4,5,6]\n",
    "print(\"List Elements: \", l)\n",
    "l.clear()\n",
    "print(\"After removing all elements from list: \",l)"
   ]
  },
  {
   "cell_type": "code",
   "execution_count": 26,
   "id": "e9470e68-e5d8-4ab0-84b9-45fee8775873",
   "metadata": {},
   "outputs": [
    {
     "name": "stdout",
     "output_type": "stream",
     "text": [
      "List:  [1, 2, 3, 4, -3, 6, 7, -4, 9, 8, -4]\n",
      "Replacing negative numbers in a list with 0:  [1, 2, 3, 4, 0, 6, 7, 0, 9, 8, 0]\n"
     ]
    }
   ],
   "source": [
    "#42. Replace negative numbers in a list with 0.\n",
    "\n",
    "lst = [1,2,3,4,-3,6,7,-4,9,8,-4]\n",
    "print(\"List: \",lst)\n",
    "for i in range(0,len(lst)):\n",
    "    if lst[i]<0:\n",
    "        lst[i]=0\n",
    "print(\"Replacing negative numbers in a list with 0: \",lst)"
   ]
  },
  {
   "cell_type": "code",
   "execution_count": 28,
   "id": "f3fff143-38bf-4624-b090-cecb7a05be9e",
   "metadata": {},
   "outputs": [
    {
     "name": "stdin",
     "output_type": "stream",
     "text": [
      "Enter a string:  Hello Learners! Welcome to PWSkills\n"
     ]
    },
    {
     "name": "stdout",
     "output_type": "stream",
     "text": [
      "Entered string to list of words:  ['Hello', 'Learners!', 'Welcome', 'to', 'PWSkills']\n"
     ]
    }
   ],
   "source": [
    "#43. Convert a string into a list of words.\n",
    "\n",
    "s = input(\"Enter a string: \")\n",
    "print(\"Entered string to list of words: \",s.split())"
   ]
  },
  {
   "cell_type": "code",
   "execution_count": 30,
   "id": "287a9054-b43a-4312-8cb3-50a4beb0bc3f",
   "metadata": {},
   "outputs": [
    {
     "name": "stdout",
     "output_type": "stream",
     "text": [
      "List of words:  ['Hello,', 'this', 'is', 'a', 'puzzle.']\n",
      "String:  Hello, this is a puzzle.\n"
     ]
    }
   ],
   "source": [
    "#44. Convert a list of words into a string.\n",
    "\n",
    "list_words = [\"Hello,\", \"this\", \"is\", \"a\", \"puzzle.\"]\n",
    "print(\"List of words: \", list_words)\n",
    "my_string = \" \".join(list_words)\n",
    "print(\"String: \", my_string)"
   ]
  },
  {
   "cell_type": "code",
   "execution_count": 36,
   "id": "539f083b-4ceb-499a-8452-1fcd03020811",
   "metadata": {},
   "outputs": [
    {
     "name": "stdin",
     "output_type": "stream",
     "text": [
      "Enter the value of n:  5\n"
     ]
    },
    {
     "name": "stdout",
     "output_type": "stream",
     "text": [
      "First  5 powers of 2 are:  [2, 4, 8, 16, 32]\n"
     ]
    }
   ],
   "source": [
    "#45. Create a list of the first `n` powers of 2.\n",
    "\n",
    "lst = []\n",
    "n = int(input(\"Enter the value of n: \"))\n",
    "for i in range(1,n+1,1):\n",
    "    r = 2**i\n",
    "    lst.append(r) \n",
    "print(\"First \", n, \"powers of 2 are: \",lst)"
   ]
  },
  {
   "cell_type": "code",
   "execution_count": 55,
   "id": "4bcf7f6b-0c62-4390-a66f-7a8e1def6aaa",
   "metadata": {},
   "outputs": [
    {
     "name": "stdout",
     "output_type": "stream",
     "text": [
      "List of strings:  ['hello', 'hi', 'world', 'longest']\n",
      "Longest string:  longest\n"
     ]
    }
   ],
   "source": [
    "#46. Find the longest string in a list of strings.\n",
    "\n",
    "s=[\"hello\", \"hi\", \"world\", \"longest\"]\n",
    "print(\"List of strings: \", s)\n",
    "k = []\n",
    "for i in s:\n",
    "    k.append(len(i))\n",
    "m=k.index(max(k))\n",
    "print(\"Longest string: \",s[m])"
   ]
  },
  {
   "cell_type": "code",
   "execution_count": 56,
   "id": "e21b9a5a-edd9-4720-b8fb-519528f91553",
   "metadata": {},
   "outputs": [
    {
     "name": "stdout",
     "output_type": "stream",
     "text": [
      "List of strings:  ['hello', 'hi', 'world', 'longest']\n",
      "Longest string:  hi\n"
     ]
    }
   ],
   "source": [
    "#47. Find the shortest string in a list of strings.\n",
    "\n",
    "s=[\"hello\", \"hi\", \"world\", \"longest\"]\n",
    "print(\"List of strings: \", s)\n",
    "k = []\n",
    "for i in s:\n",
    "    k.append(len(i))\n",
    "m=k.index(min(k))\n",
    "print(\"Longest string: \",s[m])"
   ]
  },
  {
   "cell_type": "code",
   "execution_count": 59,
   "id": "2883bd9d-04d6-417a-8982-25159aa9cc07",
   "metadata": {},
   "outputs": [
    {
     "name": "stdin",
     "output_type": "stream",
     "text": [
      "Enter the value of n:  5\n"
     ]
    },
    {
     "name": "stdout",
     "output_type": "stream",
     "text": [
      "List of first 5 triangular numbers:  [1, 3, 6, 10, 15]\n"
     ]
    }
   ],
   "source": [
    "#48. Create a list of the first `n` triangular numbers.\n",
    "\n",
    "n = int(input(\"Enter the value of n: \"))\n",
    "lst=[]\n",
    "for i in range(1,n+1,1):\n",
    "    r=(i*(i+1))//2\n",
    "    lst.append(r)\n",
    "print(\"List of first\", n, \"triangular numbers: \",lst)"
   ]
  },
  {
   "cell_type": "code",
   "execution_count": 62,
   "id": "a473d1a1-9693-4b17-8480-f1f72247fb10",
   "metadata": {},
   "outputs": [
    {
     "name": "stdout",
     "output_type": "stream",
     "text": [
      "[9, 4, 5, 8, 10] contains [10, 5] as a subsequence\n"
     ]
    }
   ],
   "source": [
    "#49. Check if a list contains another list as a subsequence.\n",
    "\n",
    "l = [9, 4, 5, 8, 10]\n",
    "s = [10, 5]\n",
    "if set(s).issubset(set(l)):\n",
    "    print(l,\"contains\", s, \"as a subsequence\")\n",
    "else:\n",
    "    print(l,\"does not contain\", s, \"as a subsequence\")"
   ]
  },
  {
   "cell_type": "code",
   "execution_count": 68,
   "id": "58a09425-58d7-4ea6-927f-d9448edfceef",
   "metadata": {},
   "outputs": [
    {
     "name": "stdout",
     "output_type": "stream",
     "text": [
      "List:  [1, 2, 3, 4, 5, 6]\n"
     ]
    },
    {
     "name": "stdin",
     "output_type": "stream",
     "text": [
      "Enter first index to be swapped:  1\n",
      "Enter second index to be swapped:  3\n"
     ]
    },
    {
     "name": "stdout",
     "output_type": "stream",
     "text": [
      "After swapping 1 and 3 indices :  [1, 4, 3, 2, 5, 6]\n"
     ]
    }
   ],
   "source": [
    "#50. Swap two elements in a list by their indices.\n",
    "\n",
    "lst = [1,2,3,4,5,6]\n",
    "print(\"List: \",lst)\n",
    "index1 = int(input(\"Enter first index to be swapped: \"))\n",
    "index2 = int(input(\"Enter second index to be swapped: \"))\n",
    "\n",
    "temp = lst[index1]\n",
    "lst[index1]=lst[index2]\n",
    "lst[index2]=temp\n",
    "\n",
    "print(\"After swapping\", index1, \"and\", index2,\"indices : \",lst)"
   ]
  },
  {
   "cell_type": "markdown",
   "id": "9c4da510-38db-4470-8115-4cbfb465c916",
   "metadata": {},
   "source": [
    "#### Tuple Based Practice Problem :"
   ]
  },
  {
   "cell_type": "code",
   "execution_count": 3,
   "id": "2b11b8ee-9b6f-4a88-a16a-deefb783cf36",
   "metadata": {},
   "outputs": [
    {
     "name": "stdout",
     "output_type": "stream",
     "text": [
      "Tuple with integers from 1 to 5:  (1, 2, 3, 4, 5)\n"
     ]
    }
   ],
   "source": [
    "#1. Create a tuple with integers from 1 to 5.\n",
    "\n",
    "t = (1,2,3,4,5)\n",
    "print(\"Tuple with integers from 1 to 5: \",t)"
   ]
  },
  {
   "cell_type": "code",
   "execution_count": 4,
   "id": "4db7de33-cc15-4764-8aa7-7c221d3faefc",
   "metadata": {},
   "outputs": [
    {
     "name": "stdout",
     "output_type": "stream",
     "text": [
      "Tuple:  (1, 2, 3, 4, 5, 6, 7)\n",
      "Third element of tuple:  3\n"
     ]
    }
   ],
   "source": [
    "#2. Access the third element of a tuple.\n",
    "\n",
    "t = (1,2,3,4,5,6,7)\n",
    "print(\"Tuple: \",t)\n",
    "print(\"Third element of tuple: \",t[2])"
   ]
  },
  {
   "cell_type": "code",
   "execution_count": 6,
   "id": "de4f694d-0a37-400d-97f3-d7492690e476",
   "metadata": {},
   "outputs": [
    {
     "name": "stdout",
     "output_type": "stream",
     "text": [
      "Length of (1, 3, 5, 6, 8, 9) is:  6\n"
     ]
    }
   ],
   "source": [
    "#3. Find the length of a tuple without using the `len()` function.\n",
    "\n",
    "t = (1,3,5,6,8,9)\n",
    "ctr = 0\n",
    "for i in t:\n",
    "    ctr+=1\n",
    "print(\"Length of\",t,\"is: \",ctr)"
   ]
  },
  {
   "cell_type": "code",
   "execution_count": 10,
   "id": "b10a30a0-e119-4601-9e92-e130dafd6a92",
   "metadata": {},
   "outputs": [
    {
     "name": "stdout",
     "output_type": "stream",
     "text": [
      "Tuple:  (1, 2, 3, 5, 5, 6, 6, 6, 7, 9)\n"
     ]
    },
    {
     "name": "stdin",
     "output_type": "stream",
     "text": [
      "Enter occurance of element you want from the tuple:  6\n"
     ]
    },
    {
     "name": "stdout",
     "output_type": "stream",
     "text": [
      "Occurance of 6 in (1, 2, 3, 5, 5, 6, 6, 6, 7, 9) is:  3\n"
     ]
    }
   ],
   "source": [
    "#4. Count the occurrences of an element in a tuple.\n",
    "\n",
    "t = (1,2,3,5,5,6,6,6,7,9)\n",
    "print(\"Tuple: \",t)\n",
    "ele = int(input(\"Enter occurance of element you want from the tuple: \"))\n",
    "ctr = 0\n",
    "for i in range(len(t)):\n",
    "    if t[i] == ele:\n",
    "        ctr+=1\n",
    "print(\"Occurance of\",ele,\"in\",t,\"is: \",ctr)"
   ]
  },
  {
   "cell_type": "code",
   "execution_count": 12,
   "id": "a2d33b4a-e3f3-4afb-952b-1a43eb672c8c",
   "metadata": {},
   "outputs": [
    {
     "name": "stdout",
     "output_type": "stream",
     "text": [
      "Tuple:  (1, 2, 2, 3, 5)\n"
     ]
    },
    {
     "name": "stdin",
     "output_type": "stream",
     "text": [
      "Enter element whose index of first occurance is required from the tuple:  2\n"
     ]
    },
    {
     "name": "stdout",
     "output_type": "stream",
     "text": [
      "Index of first occurance of 2 in (1, 2, 2, 3, 5) is 1\n"
     ]
    }
   ],
   "source": [
    "#5. Find the index of the first occurrence of an element in a tuple.\n",
    "\n",
    "t = (1,2,2,3,5)\n",
    "print(\"Tuple: \",t)\n",
    "ele = int(input(\"Enter element whose index of first occurance is required from the tuple: \"))\n",
    "print(\"Index of first occurance of\",ele,\"in\",t,\"is\",t.index(ele))"
   ]
  },
  {
   "cell_type": "code",
   "execution_count": 15,
   "id": "168d34a7-0f5c-463f-93ba-53259f7043d9",
   "metadata": {},
   "outputs": [
    {
     "name": "stdout",
     "output_type": "stream",
     "text": [
      "Tuple:  (1, 2, 3, 4, 5)\n"
     ]
    },
    {
     "name": "stdin",
     "output_type": "stream",
     "text": [
      "Enter element whose existence needs to be checked:  55\n"
     ]
    },
    {
     "name": "stdout",
     "output_type": "stream",
     "text": [
      "55 does not exists in (1, 2, 3, 4, 5)\n"
     ]
    }
   ],
   "source": [
    "#6. Check if an element exists in a tuple.\n",
    "\n",
    "t = (1,2,3,4,5)\n",
    "print(\"Tuple: \",t)\n",
    "ele = int(input(\"Enter element whose existence needs to be checked: \"))\n",
    "if ele in t:\n",
    "    print(ele,\"exists in\",t)\n",
    "else:\n",
    "     print(ele,\"does not exists in\",t)"
   ]
  },
  {
   "cell_type": "code",
   "execution_count": 16,
   "id": "5aafc7fc-38ee-4d72-a556-b4d1df4348e3",
   "metadata": {},
   "outputs": [
    {
     "name": "stdout",
     "output_type": "stream",
     "text": [
      "Tuple:  (0, 2, 4, 5, 5)\n",
      "Tuple to list:  [0, 2, 4, 5, 5]\n"
     ]
    }
   ],
   "source": [
    "#7. Convert a tuple to a list.\n",
    "\n",
    "t = (0,2,4,5,5)\n",
    "print(\"Tuple: \",t)\n",
    "print(\"Tuple to list: \", list(t))"
   ]
  },
  {
   "cell_type": "code",
   "execution_count": 18,
   "id": "17a0cb71-c928-421d-91e3-5a7bc58b1174",
   "metadata": {},
   "outputs": [
    {
     "name": "stdout",
     "output_type": "stream",
     "text": [
      "List:  [1, 2, 3, 5, 0, 56]\n",
      "List to tuple:  (1, 2, 3, 5, 0, 56)\n"
     ]
    }
   ],
   "source": [
    "#8. Convert a list to a tuple.\n",
    "\n",
    "l = [1,2,3,5,0,56]\n",
    "print(\"List: \",l)\n",
    "print(\"List to tuple: \", tuple(l))"
   ]
  },
  {
   "cell_type": "code",
   "execution_count": 20,
   "id": "1ccc8d81-d90f-40a9-a9d9-342064048439",
   "metadata": {},
   "outputs": [
    {
     "name": "stdout",
     "output_type": "stream",
     "text": [
      "Variable 1:  1\n",
      "Variable 2:  2\n",
      "Variable 3:  3\n"
     ]
    }
   ],
   "source": [
    "#9. Unpack the elements of a tuple into variables.\n",
    "\n",
    "t = (1,2,3)\n",
    "a,b,c = t\n",
    "print(\"Variable 1: \",a)\n",
    "print(\"Variable 2: \",b)\n",
    "print(\"Variable 3: \",c)"
   ]
  },
  {
   "cell_type": "code",
   "execution_count": 24,
   "id": "8d65afa9-1335-4341-8610-96f8617ce626",
   "metadata": {},
   "outputs": [
    {
     "name": "stdout",
     "output_type": "stream",
     "text": [
      "Tuple of even numbers from 1 to 10:  (2, 4, 6, 8, 10)\n"
     ]
    }
   ],
   "source": [
    "#10. Create a tuple of even numbers from 1 to 10.\n",
    "\n",
    "l = []\n",
    "for i in range(2,11,2):\n",
    "    l.append(i)\n",
    "print(\"Tuple of even numbers from 1 to 10: \",tuple(l))"
   ]
  },
  {
   "cell_type": "code",
   "execution_count": 25,
   "id": "e512f141-c9d1-41fd-8182-9f1514bd952b",
   "metadata": {},
   "outputs": [
    {
     "name": "stdout",
     "output_type": "stream",
     "text": [
      "Tuple of odd numbers from 1 to 10:  (1, 3, 5, 7, 9)\n"
     ]
    }
   ],
   "source": [
    "#11. Create a tuple of odd numbers from 1 to 10.\n",
    "\n",
    "l = []\n",
    "for i in range(1,11,2):\n",
    "    l.append(i)\n",
    "print(\"Tuple of odd numbers from 1 to 10: \",tuple(l))"
   ]
  },
  {
   "cell_type": "code",
   "execution_count": 26,
   "id": "937faabf-4709-4c4b-a138-7c247f7b4e75",
   "metadata": {},
   "outputs": [
    {
     "name": "stdout",
     "output_type": "stream",
     "text": [
      "Tuple 1:  (1, 2, 3)\n",
      "Tuple 2: (4, 5, 6)\n",
      "Concatinated Tuple:  (1, 2, 3, 4, 5, 6)\n"
     ]
    }
   ],
   "source": [
    "#12. Concatenate two tuples.\n",
    "\n",
    "t1 = (1,2,3)\n",
    "t2 = (4,5,6)\n",
    "\n",
    "print(\"Tuple 1: \",t1)\n",
    "print(\"Tuple 2:\",t2)\n",
    "print(\"Concatinated Tuple: \",t1+t2)"
   ]
  },
  {
   "cell_type": "code",
   "execution_count": 27,
   "id": "a0b74389-8aed-4f6e-9fd9-3bec24a2d6ea",
   "metadata": {},
   "outputs": [
    {
     "name": "stdout",
     "output_type": "stream",
     "text": [
      "(1, 2, 3) repeated thrice:  (1, 2, 3, 1, 2, 3, 1, 2, 3)\n"
     ]
    }
   ],
   "source": [
    "#13. Repeat a tuple three times.\n",
    "\n",
    "t = (1,2,3)\n",
    "print(t,\"repeated thrice: \",t*3)"
   ]
  },
  {
   "cell_type": "code",
   "execution_count": 33,
   "id": "2fb7a406-27a3-4aa2-b076-d1e729731620",
   "metadata": {},
   "outputs": [
    {
     "name": "stdout",
     "output_type": "stream",
     "text": [
      "Tuple:  (1, 2, 3)\n",
      "Tuple is non-empty\n"
     ]
    }
   ],
   "source": [
    "#14. Check if a tuple is empty.\n",
    "\n",
    "t = (1,2,3)\n",
    "print(\"Tuple: \",t)\n",
    "if t:\n",
    "    print(\"Tuple is non-empty\")\n",
    "else:\n",
    "    print(\"Tuple is empty\")"
   ]
  },
  {
   "cell_type": "code",
   "execution_count": 36,
   "id": "3ab02ab6-de05-4b56-b0d0-8a7ec84dab7b",
   "metadata": {},
   "outputs": [
    {
     "name": "stdout",
     "output_type": "stream",
     "text": [
      "Nested Tuple:  (1, 2, 3, ('a', 'b'), ((1+3j), (4+9j)))\n"
     ]
    }
   ],
   "source": [
    "#15. Create a nested tuple.\n",
    "\n",
    "t = (1,2,3,('a','b'),(1+3j,4+9j))\n",
    "print(\"Nested Tuple: \",t)"
   ]
  },
  {
   "cell_type": "code",
   "execution_count": 37,
   "id": "f8f1bd7a-3d6b-4ac1-b941-002fff207726",
   "metadata": {},
   "outputs": [
    {
     "name": "stdout",
     "output_type": "stream",
     "text": [
      "First element of (1, 2, 3, ('a', 'b'), ((1+3j), (4+9j))) is:  1\n"
     ]
    }
   ],
   "source": [
    "#16. Access the first element of a nested tuple.\n",
    "\n",
    "t = (1,2,3,('a','b'),(1+3j,4+9j))\n",
    "print(\"First element of\",t,\"is: \",t[0])"
   ]
  },
  {
   "cell_type": "code",
   "execution_count": 40,
   "id": "b11522ca-bda6-4a39-9461-88ae26f9d8d0",
   "metadata": {},
   "outputs": [
    {
     "name": "stdout",
     "output_type": "stream",
     "text": [
      "Tuple with single element:  (1,)\n"
     ]
    }
   ],
   "source": [
    "#17. Create a tuple with a single element.\n",
    "\n",
    "t=(1,)\n",
    "print(\"Tuple with single element: \",t)"
   ]
  },
  {
   "cell_type": "code",
   "execution_count": 45,
   "id": "ba4584b4-ae62-4a14-88eb-c99db666f300",
   "metadata": {},
   "outputs": [
    {
     "name": "stdout",
     "output_type": "stream",
     "text": [
      "First tuple:  (1, 2, 3)\n",
      "Second tuple:  (2, 3, 4)\n",
      "------Comparing two tuples---------------------\n",
      "Tuple1 == Tuple2:  False\n",
      "Tuple1 != Tuple2:  True\n",
      "Tuple1 < Tuple2:  True\n",
      "Tuple1 > Tuple2:  False\n",
      "Tuple1 <= Tuple2:  True\n",
      "Tuple1 >= Tuple2:  False\n"
     ]
    }
   ],
   "source": [
    "#18. Compare two tuples.\n",
    "\n",
    "t1 = (1,2,3)\n",
    "t2 = (2,3,4)\n",
    "\n",
    "print(\"First tuple: \",t1)\n",
    "print(\"Second tuple: \",t2)\n",
    "\n",
    "print(\"------Comparing two tuples---------------------\")\n",
    "\n",
    "print(\"Tuple1 == Tuple2: \",t1==t2)\n",
    "print(\"Tuple1 != Tuple2: \",t1!=t2)\n",
    "print(\"Tuple1 < Tuple2: \",t1<t2)\n",
    "print(\"Tuple1 > Tuple2: \",t1>t2)\n",
    "print(\"Tuple1 <= Tuple2: \",t1<=t2)\n",
    "print(\"Tuple1 >= Tuple2: \",t1>=t2)"
   ]
  },
  {
   "cell_type": "code",
   "execution_count": 47,
   "id": "937e0f29-16ed-432b-94b7-7b0122f830dc",
   "metadata": {},
   "outputs": [
    {
     "name": "stdout",
     "output_type": "stream",
     "text": [
      "Tuple:  (1, 2, 3)\n"
     ]
    },
    {
     "ename": "NameError",
     "evalue": "name 't' is not defined",
     "output_type": "error",
     "traceback": [
      "\u001b[0;31m---------------------------------------------------------------------------\u001b[0m",
      "\u001b[0;31mNameError\u001b[0m                                 Traceback (most recent call last)",
      "Cell \u001b[0;32mIn[47], line 6\u001b[0m\n\u001b[1;32m      4\u001b[0m \u001b[38;5;28mprint\u001b[39m(\u001b[38;5;124m\"\u001b[39m\u001b[38;5;124mTuple: \u001b[39m\u001b[38;5;124m\"\u001b[39m,t)\n\u001b[1;32m      5\u001b[0m \u001b[38;5;28;01mdel\u001b[39;00m t\n\u001b[0;32m----> 6\u001b[0m \u001b[38;5;28mprint\u001b[39m(\u001b[38;5;124m\"\u001b[39m\u001b[38;5;124mTuple after deletion: \u001b[39m\u001b[38;5;124m\"\u001b[39m,\u001b[43mt\u001b[49m)\n",
      "\u001b[0;31mNameError\u001b[0m: name 't' is not defined"
     ]
    }
   ],
   "source": [
    "#19. Delete a tuple.\n",
    "\n",
    "t = (1,2,3)\n",
    "print(\"Tuple: \",t)\n",
    "del t\n",
    "print(\"Tuple after deletion: \",t)"
   ]
  },
  {
   "cell_type": "code",
   "execution_count": 48,
   "id": "a04156f6-ce27-44a6-a92c-d043e8920656",
   "metadata": {},
   "outputs": [
    {
     "name": "stdout",
     "output_type": "stream",
     "text": [
      "Tuple:  (1, 2, 3, 4, 5, 6, 7, 8)\n",
      "Slicing tuple from 3:6 elements:  (3, 4, 5, 6)\n"
     ]
    }
   ],
   "source": [
    "#20. Slice a tuple.\n",
    "\n",
    "t=(1,2,3,4,5,6,7,8)\n",
    "print(\"Tuple: \",t)\n",
    "print(\"Slicing tuple from 3:6 elements: \",t[2:6])"
   ]
  },
  {
   "cell_type": "code",
   "execution_count": 49,
   "id": "54285799-acea-407e-9587-4526130a3f53",
   "metadata": {},
   "outputs": [
    {
     "name": "stdout",
     "output_type": "stream",
     "text": [
      "Maximum element in (1, 2, 5, 77, 8, 0, 65) is:  77\n"
     ]
    }
   ],
   "source": [
    "#21. Find the maximum value in a tuple.\n",
    "\n",
    "t = (1,2,5,77,8,0,65)\n",
    "print(\"Maximum element in\",t,\"is: \",max(t))"
   ]
  },
  {
   "cell_type": "code",
   "execution_count": 50,
   "id": "e024afc2-00df-46d1-a65d-ef2662dbf749",
   "metadata": {},
   "outputs": [
    {
     "name": "stdout",
     "output_type": "stream",
     "text": [
      "Minimum element in (1, 2, 5, 77, 8, 0, 65) is:  0\n"
     ]
    }
   ],
   "source": [
    "#22. Find the minimum value in a tuple.\n",
    "\n",
    "t = (1,2,5,77,8,0,65)\n",
    "print(\"Minimum element in\",t,\"is: \",min(t))"
   ]
  },
  {
   "cell_type": "code",
   "execution_count": 51,
   "id": "5b522961-298b-4e23-89cf-b3d54a8465b2",
   "metadata": {},
   "outputs": [
    {
     "name": "stdout",
     "output_type": "stream",
     "text": [
      "Hello World! to tuple of characters:  ('H', 'e', 'l', 'l', 'o', ' ', 'W', 'o', 'r', 'l', 'd', '!')\n"
     ]
    }
   ],
   "source": [
    "#23. Convert a string to a tuple of characters.\n",
    "\n",
    "s = \"Hello World!\"\n",
    "print(s,\"to tuple of characters: \", tuple(s))"
   ]
  },
  {
   "cell_type": "code",
   "execution_count": 52,
   "id": "5f6a2277-34c1-4fa6-9cf9-34cc2ca7dc54",
   "metadata": {},
   "outputs": [
    {
     "name": "stdout",
     "output_type": "stream",
     "text": [
      "Tuple of characters to string:  Hello World!\n"
     ]
    }
   ],
   "source": [
    "#24. Convert a tuple of characters to a string.\n",
    "\n",
    "c = ('H', 'e', 'l', 'l', 'o', ' ', 'W', 'o', 'r', 'l', 'd', '!')\n",
    "s = ''.join(c)\n",
    "print(\"Tuple of characters to string: \",s)"
   ]
  },
  {
   "cell_type": "code",
   "execution_count": 53,
   "id": "9cd1d524-6823-46d0-afc3-b096040c57bc",
   "metadata": {},
   "outputs": [
    {
     "name": "stdout",
     "output_type": "stream",
     "text": [
      "Tuple from multiple data types (1, 2.4, 'string', True)\n"
     ]
    }
   ],
   "source": [
    "#25. Create a tuple from multiple data types.\n",
    "\n",
    "t = (1,2.4,'string',True)\n",
    "print(\"Tuple from multiple data types\",t)"
   ]
  },
  {
   "cell_type": "code",
   "execution_count": 54,
   "id": "a0c3a57c-8318-430f-9e19-7fc34c4127e3",
   "metadata": {},
   "outputs": [
    {
     "name": "stdout",
     "output_type": "stream",
     "text": [
      "Tuple 1: (1, 2, 3)\n",
      "Tuple 2: (1, 2, 3)\n",
      "Tuples are identical\n"
     ]
    }
   ],
   "source": [
    "#26. Check if two tuples are identical.\n",
    "\n",
    "t1 = (1,2,3)\n",
    "t2 = (1,2,3)\n",
    "\n",
    "print(\"Tuple 1:\",t1)\n",
    "print(\"Tuple 2:\",t2)\n",
    "\n",
    "if t1==t2:\n",
    "    print(\"Tuples are identical\")\n",
    "else:\n",
    "    print(\"Tuples are not identical\")"
   ]
  },
  {
   "cell_type": "code",
   "execution_count": 61,
   "id": "098f8de0-924f-4be4-9334-82c29e325b59",
   "metadata": {},
   "outputs": [
    {
     "name": "stdout",
     "output_type": "stream",
     "text": [
      "Tuple:  (1, 2, 5, 4, 9)\n",
      "Sorted tuple:  (1, 2, 4, 5, 9)\n"
     ]
    }
   ],
   "source": [
    "#27. Sort the elements of a tuple.\n",
    "\n",
    "t=(1,2,5,4,9)\n",
    "print(\"Tuple: \",t)\n",
    "print(\"Sorted tuple: \",tuple(sorted(t)))"
   ]
  },
  {
   "cell_type": "code",
   "execution_count": 3,
   "id": "710cf5a1-6487-44bb-8fea-04ad4bda4de5",
   "metadata": {},
   "outputs": [
    {
     "name": "stdout",
     "output_type": "stream",
     "text": [
      "Tuple of integers:  (1, 2, 5, 4, 9)\n",
      "Tuple of strings:  ('1', '2', '5', '4', '9')\n"
     ]
    }
   ],
   "source": [
    "#28. Convert a tuple of integers to a tuple of strings.\n",
    "\n",
    "t=(1,2,5,4,9)\n",
    "print(\"Tuple of integers: \",t)\n",
    "s=\"\"\n",
    "for i in t:\n",
    "    s=s+str(i)\n",
    "print(\"Tuple of strings: \",tuple(s))"
   ]
  },
  {
   "cell_type": "code",
   "execution_count": 6,
   "id": "85f57242-ace0-427b-b274-1896aa61f13f",
   "metadata": {},
   "outputs": [
    {
     "name": "stdout",
     "output_type": "stream",
     "text": [
      "Tuple of strings:  ('1', '2', '5', '4', '9')\n",
      "Tuple of integers:  (1, 2, 5, 4, 9)\n"
     ]
    }
   ],
   "source": [
    "#29. Convert a tuple of strings to a tuple of integers.\n",
    "\n",
    "t = ('1', '2', '5', '4', '9')\n",
    "print(\"Tuple of strings: \",t)\n",
    "l=[]\n",
    "for i in t:\n",
    "    l.append(int(i))\n",
    "print(\"Tuple of integers: \",tuple(l))"
   ]
  },
  {
   "cell_type": "code",
   "execution_count": 82,
   "id": "ed4d6847-f030-49b5-ad67-180c8bace070",
   "metadata": {},
   "outputs": [
    {
     "name": "stdout",
     "output_type": "stream",
     "text": [
      "First tuple:  (1, 2, 3)\n",
      "Second tuple:  (4, 5, 6)\n",
      "Merged tuple:  (1, 2, 3, 4, 5, 6)\n"
     ]
    }
   ],
   "source": [
    "#30. Merge two tuples.\n",
    "\n",
    "t1=(1,2,3)\n",
    "t2=(4,5,6)\n",
    "\n",
    "print(\"First tuple: \",t1)\n",
    "print(\"Second tuple: \",t2)\n",
    "\n",
    "print(\"Merged tuple: \",t1+t2)"
   ]
  },
  {
   "cell_type": "code",
   "execution_count": 15,
   "id": "8344ae24-a76f-4d9a-af46-adede08fd58c",
   "metadata": {},
   "outputs": [
    {
     "name": "stdout",
     "output_type": "stream",
     "text": [
      "Nested Tuple:  ((3, 4, 5), (7, 8))\n",
      "Flattened Tuple:  (3, 4, 5, 7, 8)\n"
     ]
    }
   ],
   "source": [
    "#31. Flatten a nested tuple.\n",
    "\n",
    "t = ((3,4,5),(7,8))\n",
    "print(\"Nested Tuple: \",t)\n",
    "l=[]\n",
    "for i in t:\n",
    "    l.extend(i)\n",
    "print(\"Flattened Tuple: \",tuple(l))"
   ]
  },
  {
   "cell_type": "code",
   "execution_count": 6,
   "id": "23e62b8c-6199-4cba-91a9-c5d30a91cd72",
   "metadata": {},
   "outputs": [
    {
     "name": "stdin",
     "output_type": "stream",
     "text": [
      "Enter the number of prime numbers you want:  5\n"
     ]
    },
    {
     "name": "stdout",
     "output_type": "stream",
     "text": [
      "Tuple of first 5 prime numbers:  (2, 3, 5, 7, 11)\n"
     ]
    }
   ],
   "source": [
    "#32. Create a tuple of the first 5 prime numbers.\n",
    "\n",
    "lst = []\n",
    "ctr = 0\n",
    "n=int(input(\"Enter the number of prime numbers you want: \"))\n",
    "count=0\n",
    "i=1\n",
    "while count<n:\n",
    "    f=1\n",
    "    ctr=0\n",
    "    while(f<=i):\n",
    "        if (i%f==0):\n",
    "            ctr+=1\n",
    "        f+=1\n",
    "    if(ctr==2):\n",
    "        lst.append(i)\n",
    "        count+=1\n",
    "    i+=1\n",
    "print(\"Tuple of first\",n,\"prime numbers: \",tuple(lst))"
   ]
  },
  {
   "cell_type": "code",
   "execution_count": 10,
   "id": "0d64955b-d0c4-4992-ab8f-fd84a923dcde",
   "metadata": {},
   "outputs": [
    {
     "name": "stdout",
     "output_type": "stream",
     "text": [
      "Tuple:  (1, 2, 3, 2, 1)\n",
      "Tuple is palindrome\n"
     ]
    }
   ],
   "source": [
    "#33. Check if a tuple is a palindrome.\n",
    "\n",
    "t = (1,2,3,2,1)\n",
    "print(\"Tuple: \",t)\n",
    "rev = t[::-1]\n",
    "if t==rev:\n",
    "    print(\"Tuple is palindrome\")\n",
    "else:\n",
    "    print(\"Tuple is not palindrome\")"
   ]
  },
  {
   "cell_type": "code",
   "execution_count": 13,
   "id": "97a0393c-b574-443a-b687-fd3e6ffdf3d6",
   "metadata": {},
   "outputs": [
    {
     "name": "stdout",
     "output_type": "stream",
     "text": [
      "Tuple of squares of numbers from 1 to 5: (1, 4, 9, 16, 25)\n"
     ]
    }
   ],
   "source": [
    "#34. Create a tuple of squares of numbers from 1 to 5.\n",
    "\n",
    "t=()\n",
    "for i in range(1,6,1):\n",
    "    t=t+(i*i,)\n",
    "print(\"Tuple of squares of numbers from 1 to 5:\",t)"
   ]
  },
  {
   "cell_type": "code",
   "execution_count": 15,
   "id": "d612328c-9636-4e50-98d7-dab84ec546a0",
   "metadata": {},
   "outputs": [
    {
     "name": "stdout",
     "output_type": "stream",
     "text": [
      "Tuple:  (1, 2, 3, 4, 5, 6, 7, 8, 9, 0)\n",
      "Even numbers from tuple:  (2, 4, 6, 8, 0)\n"
     ]
    }
   ],
   "source": [
    "#35. Filter out all even numbers from a tuple.\n",
    "\n",
    "t = (1,2,3,4,5,6,7,8,9,0)\n",
    "et = ()\n",
    "print(\"Tuple: \",t)\n",
    "for i in t:\n",
    "    if i%2==0:\n",
    "        et = et + (i,)\n",
    "print(\"Even numbers from tuple: \",et)       "
   ]
  },
  {
   "cell_type": "code",
   "execution_count": 18,
   "id": "d1d28882-5139-412e-b8dc-8c4cc267f7fa",
   "metadata": {},
   "outputs": [
    {
     "name": "stdout",
     "output_type": "stream",
     "text": [
      "Tuple:  (2, 3, 4, 5)\n",
      "Elements of tuple multiplied by 2:  (4, 6, 8, 10)\n"
     ]
    }
   ],
   "source": [
    "#36. Multiply all elements in a tuple by 2.\n",
    "\n",
    "t = (2,3,4,5)\n",
    "nt = ()\n",
    "print(\"Tuple: \", t)\n",
    "for i in t:\n",
    "    nt=nt+(i*2,)\n",
    "print(\"Elements of tuple multiplied by 2: \", nt)    "
   ]
  },
  {
   "cell_type": "code",
   "execution_count": 24,
   "id": "1bd8beca-bead-414b-9b7a-16b1c31642ec",
   "metadata": {},
   "outputs": [
    {
     "name": "stdout",
     "output_type": "stream",
     "text": [
      "Tuple of random numbers:  (44, 31, 84, 76, 32, 91, 61, 20, 43, 40)\n"
     ]
    }
   ],
   "source": [
    "#37. Create a tuple of random numbers.\n",
    "\n",
    "import random\n",
    "t=()\n",
    "for i in range(10):\n",
    "    t = t + (random.randint(1,100),)\n",
    "print(\"Tuple of random numbers: \",t)"
   ]
  },
  {
   "cell_type": "code",
   "execution_count": 28,
   "id": "8ccfd0cf-65cd-4a10-a995-9427aaad1db1",
   "metadata": {},
   "outputs": [
    {
     "name": "stdout",
     "output_type": "stream",
     "text": [
      "Tuple:  (1, 2, 3, 4, -1)\n",
      "Tuple is not sorted\n"
     ]
    }
   ],
   "source": [
    "#38. Check if a tuple is sorted.\n",
    "\n",
    "t = (1,2,3,4,-1)\n",
    "print(\"Tuple: \",t)\n",
    "if t == tuple(sorted(t)):\n",
    "    print(\"Tuple is sorted\")\n",
    "else:\n",
    "    print(\"Tuple is not sorted\")"
   ]
  },
  {
   "cell_type": "code",
   "execution_count": 34,
   "id": "8ee71c30-11b1-4e38-9945-fdf855e03a7e",
   "metadata": {},
   "outputs": [
    {
     "name": "stdout",
     "output_type": "stream",
     "text": [
      "Tuple:  (1, 2, 3, 4, 5)\n"
     ]
    },
    {
     "name": "stdin",
     "output_type": "stream",
     "text": [
      "Enter the number of left rotations:  2\n"
     ]
    },
    {
     "name": "stdout",
     "output_type": "stream",
     "text": [
      "Tuple rotated by 2 positions left:  (3, 4, 5, 1, 2)\n"
     ]
    }
   ],
   "source": [
    "#39. Rotate a tuple to the left by `n` positions.\n",
    "\n",
    "t = (1,2,3,4,5)\n",
    "print(\"Tuple: \",t)\n",
    "n=int(input(\"Enter the number of left rotations: \"))\n",
    "t = t[n:] + t[:n]\n",
    "print(\"Tuple rotated by\",n,\"positions left: \",t)"
   ]
  },
  {
   "cell_type": "code",
   "execution_count": 38,
   "id": "4da7207c-974d-46ee-b71f-3b93135b9add",
   "metadata": {},
   "outputs": [
    {
     "name": "stdout",
     "output_type": "stream",
     "text": [
      "Tuple:  (1, 2, 3, 4, 5)\n"
     ]
    },
    {
     "name": "stdin",
     "output_type": "stream",
     "text": [
      "Enter the number of right rotations:  2\n"
     ]
    },
    {
     "name": "stdout",
     "output_type": "stream",
     "text": [
      "Tuple rotated by 2 positions right:  (4, 5, 1, 2, 3)\n"
     ]
    }
   ],
   "source": [
    "#40. Rotate a tuple to the right by `n` positions.\n",
    "\n",
    "t = (1,2,3,4,5)\n",
    "print(\"Tuple: \",t)\n",
    "n=int(input(\"Enter the number of right rotations: \"))\n",
    "t = t[n+1:] + t[:n+1]\n",
    "print(\"Tuple rotated by\",n,\"positions right: \",t)"
   ]
  },
  {
   "cell_type": "code",
   "execution_count": 12,
   "id": "c85705be-eea7-46f4-b8f7-bec8e8576988",
   "metadata": {},
   "outputs": [
    {
     "name": "stdin",
     "output_type": "stream",
     "text": [
      "Enter the count of fibonacci series:  5\n"
     ]
    },
    {
     "name": "stdout",
     "output_type": "stream",
     "text": [
      "(0, 1, 1, 2, 3)\n"
     ]
    }
   ],
   "source": [
    "#41. Create a tuple of the first 5 Fibonacci numbers.\n",
    "\n",
    "n=int(input('Enter the count of fibonacci series: '))\n",
    "flst = []\n",
    "if n<=0:\n",
    "    print(\"Invalid input!. Please enter a valid positive number.\")\n",
    "elif n==1:\n",
    "    flst.append(0)\n",
    "    print(tuple(flst))\n",
    "else:\n",
    "    flst = [0,1]\n",
    "    for i in range(2, n):\n",
    "        next_ele = flst[i-1]+flst[i-2]\n",
    "        flst.append(next_ele)\n",
    "    print(tuple(flst))"
   ]
  },
  {
   "cell_type": "code",
   "execution_count": 41,
   "id": "5001dc09-f66a-4af8-a417-7d888fdfd4c6",
   "metadata": {},
   "outputs": [
    {
     "name": "stdin",
     "output_type": "stream",
     "text": [
      "Enter your input, separated by comma(,):  a,s,d,f\n"
     ]
    },
    {
     "name": "stdout",
     "output_type": "stream",
     "text": [
      "Tuple from user input:  ('a', 's', 'd', 'f')\n"
     ]
    }
   ],
   "source": [
    "#42. Create a tuple from user input.\n",
    "\n",
    "s = input(\"Enter your input, separated by comma(,): \")\n",
    "l=s.split(',')\n",
    "print(\"Tuple from user input: \",tuple(l))"
   ]
  },
  {
   "cell_type": "code",
   "execution_count": 1,
   "id": "8f30c8b8-2a84-4f12-af5e-363e437605b5",
   "metadata": {},
   "outputs": [
    {
     "name": "stdout",
     "output_type": "stream",
     "text": [
      "Tuple:  (1, 2, 3, 4, 5, 6)\n"
     ]
    },
    {
     "name": "stdin",
     "output_type": "stream",
     "text": [
      "Enter first index to be swapped:  2\n",
      "Enter second index to be swapped:  3\n"
     ]
    },
    {
     "name": "stdout",
     "output_type": "stream",
     "text": [
      "After swapping 2 and 3 indices :  (1, 2, 4, 3, 5, 6)\n"
     ]
    }
   ],
   "source": [
    "#43. Swap two elements in a tuple.\n",
    "\n",
    "t = (1,2,3,4,5,6)\n",
    "print(\"Tuple: \",t)\n",
    "index1 = int(input(\"Enter first index to be swapped: \"))\n",
    "index2 = int(input(\"Enter second index to be swapped: \"))\n",
    "\n",
    "lst = list(t)\n",
    "temp = lst[index1]\n",
    "lst[index1]=lst[index2]\n",
    "lst[index2]=temp\n",
    "\n",
    "print(\"After swapping\", index1, \"and\", index2,\"indices : \",tuple(lst))"
   ]
  },
  {
   "cell_type": "code",
   "execution_count": 2,
   "id": "7b5206aa-380c-4cdf-8714-ed304c5b79cb",
   "metadata": {},
   "outputs": [
    {
     "name": "stdout",
     "output_type": "stream",
     "text": [
      "Tuple:  (1, 2, 3, 4, 5)\n",
      "Reverse tuple:  (5, 4, 3, 2, 1)\n"
     ]
    }
   ],
   "source": [
    "#44. Reverse the elements of a tuple.\n",
    "\n",
    "t=(1,2,3,4,5)\n",
    "print(\"Tuple: \",t)\n",
    "print(\"Reverse tuple: \",t[::-1])"
   ]
  },
  {
   "cell_type": "code",
   "execution_count": 5,
   "id": "10d81c21-b27e-4a35-933b-6b9130098f1b",
   "metadata": {},
   "outputs": [
    {
     "name": "stdin",
     "output_type": "stream",
     "text": [
      "Enter the value of n:  5\n"
     ]
    },
    {
     "name": "stdout",
     "output_type": "stream",
     "text": [
      "Tuple of first 5 powers of 2:  (2, 4, 8, 16, 32)\n"
     ]
    }
   ],
   "source": [
    "#45. Create a tuple of the first `n` powers of 2.\n",
    "\n",
    "t=()\n",
    "n = int(input(\"Enter the value of n: \"))\n",
    "for i in range(1,n+1,1):\n",
    "    t=t+(2**i,)\n",
    "print(\"Tuple of first\",n,\"powers of 2: \",t)"
   ]
  },
  {
   "cell_type": "code",
   "execution_count": 8,
   "id": "8ec6111c-1a9c-44e2-a8b1-60dbaef59904",
   "metadata": {},
   "outputs": [
    {
     "name": "stdout",
     "output_type": "stream",
     "text": [
      "Tuple of strings:  ('hello', 'how', 'r', 'you!')\n",
      "Longest string: hello\n"
     ]
    }
   ],
   "source": [
    "#46. Find the longest string in a tuple of strings.\n",
    "\n",
    "t=(\"hello\",\"how\",\"r\",\"you!\")\n",
    "print(\"Tuple of strings: \",t)\n",
    "print(\"Longest string:\",max(t,key=len))"
   ]
  },
  {
   "cell_type": "code",
   "execution_count": 9,
   "id": "f5e2448f-c44e-4376-9a83-253f14905a82",
   "metadata": {},
   "outputs": [
    {
     "name": "stdout",
     "output_type": "stream",
     "text": [
      "Tuple of strings:  ('hello', 'how', 'r', 'you!')\n",
      "Longest string: r\n"
     ]
    }
   ],
   "source": [
    "#47. Find the shortest string in a tuple of strings.\n",
    "\n",
    "t=(\"hello\",\"how\",\"r\",\"you!\")\n",
    "print(\"Tuple of strings: \",t)\n",
    "print(\"Longest string:\",min(t,key=len))"
   ]
  },
  {
   "cell_type": "code",
   "execution_count": 10,
   "id": "5c62cca4-f00e-40e8-bf5b-4ba7b58b94fe",
   "metadata": {},
   "outputs": [
    {
     "name": "stdin",
     "output_type": "stream",
     "text": [
      "Enter value of n:  4\n"
     ]
    },
    {
     "name": "stdout",
     "output_type": "stream",
     "text": [
      "Tuple of first 4 triangular numbers:  (1, 3, 6, 10)\n"
     ]
    }
   ],
   "source": [
    "#48. Create a tuple of the first `n` triangular numbers.\n",
    "\n",
    "n = int(input(\"Enter value of n: \"))\n",
    "t=()\n",
    "for i in range(1,n+1,1):\n",
    "    t=t+(i*(i+1)//2,)\n",
    "print(\"Tuple of first\",n,\"triangular numbers: \",t)"
   ]
  },
  {
   "cell_type": "code",
   "execution_count": 13,
   "id": "4b3c5ec9-f849-42bb-ae89-883f0cf8848c",
   "metadata": {},
   "outputs": [
    {
     "name": "stdout",
     "output_type": "stream",
     "text": [
      "(9, 4, 5, 8, 10) contains (10, 5) as a subsequence\n"
     ]
    }
   ],
   "source": [
    "#49. Check if a tuple contains another tuple as a subsequence.\n",
    "\n",
    "t = (9, 4, 5, 8, 10)\n",
    "s = (10, 5)\n",
    "if set(s).issubset(set(t)):\n",
    "    print(t,\"contains\", s, \"as a subsequence\")\n",
    "else:\n",
    "    print(t,\"does not contain\", s, \"as a subsequence\")"
   ]
  },
  {
   "cell_type": "code",
   "execution_count": 14,
   "id": "91adb359-5b5f-4113-a712-5e4be4da4e02",
   "metadata": {},
   "outputs": [
    {
     "name": "stdin",
     "output_type": "stream",
     "text": [
      "Enter value of n:  5\n"
     ]
    },
    {
     "name": "stdout",
     "output_type": "stream",
     "text": [
      "Tuple of alternating 1s and 0s:  (0, 1, 0, 1, 0)\n"
     ]
    }
   ],
   "source": [
    "#50. Create a tuple of alternating 1s and 0s of length `n`.\n",
    "\n",
    "n = int(input(\"Enter value of n: \"))\n",
    "t=()\n",
    "for i in range(n):\n",
    "    t=t+(i%2,)\n",
    "print(\"Tuple of alternating 1s and 0s: \",t)"
   ]
  },
  {
   "cell_type": "markdown",
   "id": "fdf378a5-0a1d-4374-83ab-0377dff00c83",
   "metadata": {},
   "source": [
    "#### Set Based Practice Problem :"
   ]
  },
  {
   "cell_type": "code",
   "execution_count": 5,
   "id": "9f4bbdc3-4ea0-47f7-99ad-167cc8e50e10",
   "metadata": {},
   "outputs": [
    {
     "name": "stdout",
     "output_type": "stream",
     "text": [
      "Set with integers from 1 to 5:  {1, 2, 3, 4, 5, 6, 7, 8, 9, 10}\n"
     ]
    }
   ],
   "source": [
    "#1. Create a set with integers from 1 to 5.\n",
    "\n",
    "s = set()\n",
    "for i in range(1,11):\n",
    "    s.add(i)\n",
    "print(\"Set with integers from 1 to 5: \", s)"
   ]
  },
  {
   "cell_type": "code",
   "execution_count": 6,
   "id": "05a87e93-e19f-48fd-ba2d-6e173fd46ac0",
   "metadata": {},
   "outputs": [
    {
     "name": "stdout",
     "output_type": "stream",
     "text": [
      "Set:  {1, 2, 3, 4}\n"
     ]
    },
    {
     "name": "stdin",
     "output_type": "stream",
     "text": [
      "Enter element to be added:  99\n"
     ]
    },
    {
     "name": "stdout",
     "output_type": "stream",
     "text": [
      "Set after adding 99 : {1, 2, 99, 3, 4}\n"
     ]
    }
   ],
   "source": [
    "#2. Add an element to a set.\n",
    "\n",
    "s={1,2,3,4}\n",
    "print(\"Set: \",s)\n",
    "ele = int(input(\"Enter element to be added: \"))\n",
    "s.add(ele)\n",
    "print(\"Set after adding\",ele,\":\",s)"
   ]
  },
  {
   "cell_type": "code",
   "execution_count": 8,
   "id": "b01f1137-c46c-48c3-bcdd-050d4df6c8f2",
   "metadata": {},
   "outputs": [
    {
     "name": "stdout",
     "output_type": "stream",
     "text": [
      "Set:  {1, 2, 3, 4, 5}\n"
     ]
    },
    {
     "name": "stdin",
     "output_type": "stream",
     "text": [
      "Enter element to be removed from set:  4\n"
     ]
    },
    {
     "name": "stdout",
     "output_type": "stream",
     "text": [
      "Set after removing 4 from it:  {1, 2, 3, 5}\n"
     ]
    }
   ],
   "source": [
    "#3. Remove an element from a set.\n",
    "\n",
    "s = {1,2,3,4,5}\n",
    "print(\"Set: \",s)\n",
    "ele = int(input(\"Enter element to be removed from set: \"))\n",
    "s.remove(ele)\n",
    "print(\"Set after removing\",ele,\"from it: \",s)"
   ]
  },
  {
   "cell_type": "code",
   "execution_count": 11,
   "id": "098eea88-ca6f-4f46-aa37-9f845402280e",
   "metadata": {},
   "outputs": [
    {
     "name": "stdout",
     "output_type": "stream",
     "text": [
      "Set:  {1, 2, 3, 4, 5}\n"
     ]
    },
    {
     "name": "stdin",
     "output_type": "stream",
     "text": [
      "Enter element to be checked for existence in the set:  34\n"
     ]
    },
    {
     "name": "stdout",
     "output_type": "stream",
     "text": [
      "34 does not exists in {1, 2, 3, 4, 5}\n"
     ]
    }
   ],
   "source": [
    "#4. Check if an element exists in a set.\n",
    "\n",
    "s = {1,2,3,4,5}\n",
    "print(\"Set: \",s)\n",
    "ele = int(input(\"Enter element to be checked for existence in the set: \"))\n",
    "if ele in s:\n",
    "    print(ele,\"exists in\",s)\n",
    "else:\n",
    "     print(ele,\"does not exists in\",s)"
   ]
  },
  {
   "cell_type": "code",
   "execution_count": 12,
   "id": "54161a92-e331-4a22-bf04-dce6a4fd3145",
   "metadata": {},
   "outputs": [
    {
     "name": "stdout",
     "output_type": "stream",
     "text": [
      "Length of {1, 2, 3, 4, 5} is:  5\n"
     ]
    }
   ],
   "source": [
    "#5. Find the length of a set without using the `len()` function.\n",
    "\n",
    "s = {1,2,3,4,5}\n",
    "ctr = 0\n",
    "for i in s:\n",
    "    ctr+=1\n",
    "print(\"Length of\",s,\"is: \",ctr)"
   ]
  },
  {
   "cell_type": "code",
   "execution_count": 15,
   "id": "319c4d3a-6992-44f4-8c13-a1eb16828d7c",
   "metadata": {},
   "outputs": [
    {
     "name": "stdout",
     "output_type": "stream",
     "text": [
      "Set:  {0, 9, 8, 7}\n",
      "Removing all elements from set: set()\n"
     ]
    }
   ],
   "source": [
    "#6. Clear all elements from a set.\n",
    "\n",
    "s = {0,9,8,7}\n",
    "print(\"Set: \",s)\n",
    "s.clear()\n",
    "print(\"Removing all elements from set:\",s)"
   ]
  },
  {
   "cell_type": "code",
   "execution_count": 16,
   "id": "64395661-d34f-4c5c-8a23-202c25fe81d0",
   "metadata": {},
   "outputs": [
    {
     "name": "stdout",
     "output_type": "stream",
     "text": [
      "Set of even numbers from 1 to 10:  {2, 4, 6, 8, 10}\n"
     ]
    }
   ],
   "source": [
    "#7. Create a set of even numbers from 1 to 10.\n",
    "\n",
    "s = set()\n",
    "for i in range(1,11):\n",
    "    if i%2==0:\n",
    "        s.add(i)\n",
    "print(\"Set of even numbers from 1 to 10: \",s)"
   ]
  },
  {
   "cell_type": "code",
   "execution_count": 17,
   "id": "a3429450-7d27-4c6b-988b-55146e69dcc4",
   "metadata": {},
   "outputs": [
    {
     "name": "stdout",
     "output_type": "stream",
     "text": [
      "Set of odd numbers from 1 to 10:  {1, 3, 5, 7, 9}\n"
     ]
    }
   ],
   "source": [
    "#8. Create a set of odd numbers from 1 to 10.\n",
    "\n",
    "s = set()\n",
    "for i in range(1,11):\n",
    "    if i%2!=0:\n",
    "        s.add(i)\n",
    "print(\"Set of odd numbers from 1 to 10: \",s)"
   ]
  },
  {
   "cell_type": "code",
   "execution_count": 20,
   "id": "9882711e-5140-44d5-ae0b-439b870c74cf",
   "metadata": {},
   "outputs": [
    {
     "name": "stdout",
     "output_type": "stream",
     "text": [
      "Set 1:  {1, 2, 3, 4}\n",
      "Set 2:  {5, 6, 7, 8, 9}\n",
      "Union of two sets:  {1, 2, 3, 4, 5, 6, 7, 8, 9}\n"
     ]
    }
   ],
   "source": [
    "#9. Find the union of two sets.\n",
    "\n",
    "s1={1,2,3,4}\n",
    "s2={5,6,7,8,9}\n",
    "print(\"Set 1: \",s1)\n",
    "print(\"Set 2: \",s2)\n",
    "print(\"Union of two sets: \",s1.union(s2))"
   ]
  },
  {
   "cell_type": "code",
   "execution_count": 22,
   "id": "33e332cb-cdce-4450-8fb4-4d1b12ba2453",
   "metadata": {},
   "outputs": [
    {
     "name": "stdout",
     "output_type": "stream",
     "text": [
      "Set 1:  {1, 2, 3, 4}\n",
      "Set 2:  {1, 3, 7, 8, 9}\n",
      "Intersection of two sets:  {1, 3}\n"
     ]
    }
   ],
   "source": [
    "#10. Find the intersection of two sets.\n",
    "\n",
    "\n",
    "s1={1,2,3,4}\n",
    "s2={3,1,7,8,9}\n",
    "print(\"Set 1: \",s1)\n",
    "print(\"Set 2: \",s2)\n",
    "print(\"Intersection of two sets: \",s1.intersection(s2))"
   ]
  },
  {
   "cell_type": "code",
   "execution_count": 23,
   "id": "01f4afe6-25df-4220-a413-fe0dd852bae2",
   "metadata": {},
   "outputs": [
    {
     "name": "stdout",
     "output_type": "stream",
     "text": [
      "Set 1:  {1, 2, 3, 4}\n",
      "Set 2:  {1, 3, 7, 8, 9}\n",
      "Difference of two sets:  {2, 4}\n"
     ]
    }
   ],
   "source": [
    "#11. Find the difference between two sets.\n",
    "\n",
    "s1={1,2,3,4}\n",
    "s2={3,1,7,8,9}\n",
    "print(\"Set 1: \",s1)\n",
    "print(\"Set 2: \",s2)\n",
    "print(\"Difference of two sets: \",s1.difference(s2))"
   ]
  },
  {
   "cell_type": "code",
   "execution_count": 25,
   "id": "e40cc2da-961d-45d5-b924-5ec63f26e096",
   "metadata": {},
   "outputs": [
    {
     "name": "stdout",
     "output_type": "stream",
     "text": [
      "{1, 2, 3} is subset of {1, 2, 3, 4, 5, 6}\n"
     ]
    }
   ],
   "source": [
    "#12. Check if a set is a subset of another set.\n",
    "\n",
    "s1 = {1,2,3}\n",
    "s2 = {1,2,3,4,5,6}\n",
    "if s1.issubset(s2):\n",
    "    print(s1,\"is subset of\",s2)\n",
    "else:\n",
    "    print(s1,\"is not a subset of\",s2)"
   ]
  },
  {
   "cell_type": "code",
   "execution_count": 26,
   "id": "5fa2074f-b2b5-4c2d-baee-6fdab3f1d032",
   "metadata": {},
   "outputs": [
    {
     "name": "stdout",
     "output_type": "stream",
     "text": [
      "{1, 2, 3, 4, 5, 6} is superset of {1, 2, 3}\n"
     ]
    }
   ],
   "source": [
    "#13. Check if a set is a superset of another set.\n",
    "\n",
    "s1 = {1,2,3}\n",
    "s2 = {1,2,3,4,5,6}\n",
    "if s2.issuperset(s1):\n",
    "    print(s2,\"is superset of\",s1)\n",
    "else:\n",
    "    print(s2,\"is not a superset of\",s1)"
   ]
  },
  {
   "cell_type": "code",
   "execution_count": 27,
   "id": "d78ccc7a-2f6d-470d-9fb3-da283fddd08b",
   "metadata": {},
   "outputs": [
    {
     "name": "stdout",
     "output_type": "stream",
     "text": [
      "List:  [1, 2, 3, 4, 1, 4]\n",
      "Set from list:  {1, 2, 3, 4}\n"
     ]
    }
   ],
   "source": [
    "#14. Create a set from a list.\n",
    "\n",
    "l = [1,2,3,4,1,4]\n",
    "print(\"List: \",l)\n",
    "print(\"Set from list: \",set(l))"
   ]
  },
  {
   "cell_type": "code",
   "execution_count": 28,
   "id": "76037d3b-8fa0-4c6f-9eee-8feeadc9f2ef",
   "metadata": {},
   "outputs": [
    {
     "name": "stdout",
     "output_type": "stream",
     "text": [
      "Set:  {1, 2, 3, 4, 5}\n",
      "Set to list:  [1, 2, 3, 4, 5]\n"
     ]
    }
   ],
   "source": [
    "#15. Convert a set to a list.\n",
    "\n",
    "s={1,2,3,4,5}\n",
    "print(\"Set: \",s)\n",
    "print(\"Set to list: \",list(s))"
   ]
  },
  {
   "cell_type": "code",
   "execution_count": 5,
   "id": "018495a5-59a3-4e24-971a-6fdbcf6c3f13",
   "metadata": {},
   "outputs": [
    {
     "name": "stdout",
     "output_type": "stream",
     "text": [
      "Set:  {1, 2, 3, 4, 5}\n",
      "Set after removing a random element:  {2, 3, 4, 5}\n"
     ]
    }
   ],
   "source": [
    "#16. Remove a random element from a set.\n",
    "\n",
    "s = {1,2,3,4,5}\n",
    "print(\"Set: \", s)\n",
    "s.pop()\n",
    "print(\"Set after removing a random element: \",s)"
   ]
  },
  {
   "cell_type": "code",
   "execution_count": 6,
   "id": "51b6f976-f643-4629-99da-1aeacd3f0354",
   "metadata": {},
   "outputs": [
    {
     "name": "stdout",
     "output_type": "stream",
     "text": [
      "Set:  {1, 2, 3, 4, 5}\n",
      "Set after poping an element:  {2, 3, 4, 5}\n"
     ]
    }
   ],
   "source": [
    "#17. Pop an element from a set.\n",
    "\n",
    "s = {1,2,3,4,5}\n",
    "print(\"Set: \", s)\n",
    "s.pop()\n",
    "print(\"Set after poping an element: \",s)"
   ]
  },
  {
   "cell_type": "code",
   "execution_count": 18,
   "id": "6d78d06b-64a7-45f8-ae6c-ebd340735184",
   "metadata": {},
   "outputs": [
    {
     "name": "stdout",
     "output_type": "stream",
     "text": [
      "{1, 2, 3, 4} and {4, 5, 6, 7} have elements in common\n"
     ]
    }
   ],
   "source": [
    "#18. Check if two sets have no elements in common.\n",
    "\n",
    "s1 = {1,2,3,4}\n",
    "s2 = {5,6,7,4}\n",
    "if s1.intersection(s2):\n",
    "    print(s1,\"and\",s2,\"have elements in common\")\n",
    "else:\n",
    "    print(s1,\"and\",s2,\"have no elements in common\")"
   ]
  },
  {
   "cell_type": "code",
   "execution_count": 20,
   "id": "169c6822-2a0b-43ab-a9ad-92766bf3827e",
   "metadata": {},
   "outputs": [
    {
     "name": "stdout",
     "output_type": "stream",
     "text": [
      "Symmetric differnce between {1, 2, 3, 4, 5} and {3, 4, 5, 6, 7} is:  {1, 2, 6, 7}\n"
     ]
    }
   ],
   "source": [
    "#19. Find the symmetric difference between two sets.\n",
    "\n",
    "s1 = {1,2,3,4,5}\n",
    "s2 = {3,4,5,6,7}\n",
    "print(\"Symmetric differnce between\",s1,\"and\",s2,\"is: \",s1^s2)"
   ]
  },
  {
   "cell_type": "code",
   "execution_count": 22,
   "id": "515a0c02-f8f5-46bb-bad6-c3cac34133f7",
   "metadata": {},
   "outputs": [
    {
     "name": "stdout",
     "output_type": "stream",
     "text": [
      "Updating {1, 2, 3, 4, 5} with {3, 4, 5} :  {1, 2, 3, 4, 5}\n"
     ]
    }
   ],
   "source": [
    "#20. Update a set with elements from another set.\n",
    "\n",
    "s1 = {1,2,3}\n",
    "s2 = {3,4,5}\n",
    "s1.update(s2)\n",
    "print(\"Updating\",s1,\"with\",s2,\": \",s1)"
   ]
  },
  {
   "cell_type": "code",
   "execution_count": 23,
   "id": "caedd59a-994c-47da-a4c2-032efd27cfa6",
   "metadata": {},
   "outputs": [
    {
     "name": "stdin",
     "output_type": "stream",
     "text": [
      "Enter the number of prime numbers you want:  5\n"
     ]
    },
    {
     "name": "stdout",
     "output_type": "stream",
     "text": [
      "Set of first 5 prime numbers:  {2, 3, 5, 7, 11}\n"
     ]
    }
   ],
   "source": [
    "#21. Create a set of the first 5 prime numbers.\n",
    "\n",
    "s = set()\n",
    "ctr = 0\n",
    "n=int(input(\"Enter the number of prime numbers you want: \"))\n",
    "count=0\n",
    "i=1\n",
    "while count<n:\n",
    "    f=1\n",
    "    ctr=0\n",
    "    while(f<=i):\n",
    "        if (i%f==0):\n",
    "            ctr+=1\n",
    "        f+=1\n",
    "    if(ctr==2):\n",
    "        s.add(i)\n",
    "        count+=1\n",
    "    i+=1\n",
    "print(\"Set of first\",n,\"prime numbers: \",s)"
   ]
  },
  {
   "cell_type": "code",
   "execution_count": 26,
   "id": "2596a94c-629c-4e7d-bc40-922b433ef76a",
   "metadata": {},
   "outputs": [
    {
     "name": "stdout",
     "output_type": "stream",
     "text": [
      "Set 1:  {1, 2, 3, 4}\n",
      "Set 2: {0, 1, 2, 4}\n",
      "Sets are not identical\n"
     ]
    }
   ],
   "source": [
    "#22. Check if two sets are identical.\n",
    "\n",
    "s1 = {1,2,3,4}\n",
    "s2 = {1,2,0,4}\n",
    "\n",
    "print(\"Set 1: \",s1)\n",
    "print(\"Set 2:\",s2)\n",
    "\n",
    "if s1 == s2:\n",
    "    print(\"Sets are identical\")\n",
    "else:\n",
    "    print(\"Sets are not identical\")"
   ]
  },
  {
   "cell_type": "code",
   "execution_count": 2,
   "id": "5839f869-4f12-4f44-a2a1-fe09ecbd4aab",
   "metadata": {},
   "outputs": [
    {
     "name": "stdout",
     "output_type": "stream",
     "text": [
      "Set:  {1, 2, 3, 4}\n",
      "Frozen Set:  frozenset({1, 2, 3, 4})\n"
     ]
    }
   ],
   "source": [
    "#23. Create a frozen set.\n",
    "\n",
    "s={1,2,3,4}\n",
    "print(\"Set: \",s)\n",
    "print(\"Frozen Set: \",frozenset(s))"
   ]
  },
  {
   "cell_type": "code",
   "execution_count": 5,
   "id": "aa9fec72-37e1-4033-9da6-99bb38c20fb6",
   "metadata": {},
   "outputs": [
    {
     "name": "stdout",
     "output_type": "stream",
     "text": [
      "{1, 2, 3} is disjoint of {0, 4, 6}\n"
     ]
    }
   ],
   "source": [
    "#24. Check if a set is disjoint with another set.\n",
    "\n",
    "s1 = {1,2,3}\n",
    "s2 = {4,0,6}\n",
    "if s1.isdisjoint(s2):\n",
    "    print(s1,\"is disjoint of\",s2)\n",
    "else:\n",
    "    print(s1,\"is not disjoint of\",s2)"
   ]
  },
  {
   "cell_type": "code",
   "execution_count": 7,
   "id": "2745dbb7-11d9-4755-b247-7802c4b57eb1",
   "metadata": {},
   "outputs": [
    {
     "name": "stdout",
     "output_type": "stream",
     "text": [
      "Set of squares of numbers from 1 to 5:  {1, 4, 9, 16, 25}\n"
     ]
    }
   ],
   "source": [
    "#25. Create a set of squares of numbers from 1 to 5.\n",
    "\n",
    "s = set()\n",
    "for i in range(1,6):\n",
    "    s.add(i**2)\n",
    "print(\"Set of squares of numbers from 1 to 5: \",s)"
   ]
  },
  {
   "cell_type": "code",
   "execution_count": 1,
   "id": "bf0be2c5-21e3-49f8-bf2f-cb6546ba2c03",
   "metadata": {},
   "outputs": [
    {
     "name": "stdout",
     "output_type": "stream",
     "text": [
      "Set:  {1, 2, 3, 4, 5, 6, 7, 8}\n",
      "Even numbers:  {8, 2, 4, 6}\n"
     ]
    }
   ],
   "source": [
    "#26. Filter out all even numbers from a set.\n",
    "\n",
    "s = {1,2,3,4,5,6,7,8}\n",
    "print(\"Set: \",s)\n",
    "even = set()\n",
    "for i in s:\n",
    "    if i%2 == 0:\n",
    "        even.add(i)\n",
    "print(\"Even numbers: \",even)"
   ]
  },
  {
   "cell_type": "code",
   "execution_count": 2,
   "id": "519e2fe1-64f0-4a8f-a376-035a0ae4ee60",
   "metadata": {},
   "outputs": [
    {
     "name": "stdout",
     "output_type": "stream",
     "text": [
      "Set:  {1, 4, 22, 7, 11}\n",
      "Elements multiplied by 2:  {2, 8, 44, 14, 22}\n"
     ]
    }
   ],
   "source": [
    "#27. Multiply all elements in a set by 2.\n",
    "\n",
    "s = {1,4,7,11,22}\n",
    "ns = set()\n",
    "print(\"Set: \",s)\n",
    "for i in s:\n",
    "    ns.add(i*2)\n",
    "print(\"Elements multiplied by 2: \",ns)"
   ]
  },
  {
   "cell_type": "code",
   "execution_count": 5,
   "id": "121b12e5-8532-42d7-9d2c-51217f66ef56",
   "metadata": {},
   "outputs": [
    {
     "name": "stdout",
     "output_type": "stream",
     "text": [
      "Set of random numbers:  {41, 46, 14, 52, 22, 24, 26, 28, 29}\n"
     ]
    }
   ],
   "source": [
    "#28. Create a set of random numbers.\n",
    "\n",
    "import random\n",
    "s = set()\n",
    "for i in range(10):\n",
    "    s.add(random.randint(1,100))\n",
    "print(\"Set of random numbers: \",s)"
   ]
  },
  {
   "cell_type": "code",
   "execution_count": 13,
   "id": "752d5f00-a25e-4301-8508-8687bd2ecc0d",
   "metadata": {},
   "outputs": [
    {
     "name": "stdout",
     "output_type": "stream",
     "text": [
      "Set:  {1, 2, 3}\n",
      "Set is not empty\n"
     ]
    }
   ],
   "source": [
    "#29. Check if a set is empty.\n",
    "\n",
    "s = {1,2,3}\n",
    "print(\"Set: \",s)\n",
    "if s:\n",
    "    print(\"Set is not empty\")\n",
    "else:\n",
    "    print(\"Set is empty\")"
   ]
  },
  {
   "cell_type": "code",
   "execution_count": 18,
   "id": "4d90f4dc-86a5-4b8e-9cd6-d6b71fc3930b",
   "metadata": {},
   "outputs": [
    {
     "name": "stdout",
     "output_type": "stream",
     "text": [
      "Nested Set:  {frozenset({1, 2, 3}), frozenset({4, 5, 6})}\n"
     ]
    }
   ],
   "source": [
    "#30. Create a nested set (hint: use frozenset).\n",
    "\n",
    "s1 = {1,2,3}\n",
    "s2 = {4,5,6}\n",
    "s = {frozenset(s1),frozenset(s2)}\n",
    "print(\"Nested Set: \",s)"
   ]
  },
  {
   "cell_type": "code",
   "execution_count": 23,
   "id": "911d5a6c-f9bb-474b-abb8-4abdd9889e9a",
   "metadata": {},
   "outputs": [
    {
     "name": "stdout",
     "output_type": "stream",
     "text": [
      "Set:  {1, 3, 4, 5, 6, 7}\n"
     ]
    },
    {
     "name": "stdin",
     "output_type": "stream",
     "text": [
      "Enter element to be removed:  3\n"
     ]
    },
    {
     "name": "stdout",
     "output_type": "stream",
     "text": [
      "Set after removal of 3 :  {1, 4, 5, 6, 7}\n"
     ]
    }
   ],
   "source": [
    "#31. Remove an element from a set using the discard method.\n",
    "\n",
    "s = {1,3,4,5,6,7}\n",
    "print(\"Set: \",s)\n",
    "ele = int(input(\"Enter element to be removed: \"))\n",
    "s.discard(ele)\n",
    "print(\"Set after removal of\",ele,\": \",s)"
   ]
  },
  {
   "cell_type": "code",
   "execution_count": 25,
   "id": "2da79939-df3a-4599-997a-acfc8e38a003",
   "metadata": {},
   "outputs": [
    {
     "name": "stdout",
     "output_type": "stream",
     "text": [
      "Set 1: {1, 2, 3, 4, 5, 9}\n",
      "Set 2: {99, 4, 5, 6, 7, 8}\n",
      "Is set1 a subset of set2? False\n",
      "Is set2 a subset of set1? False\n",
      "Intersection: {4, 5}\n",
      "Union: {1, 2, 3, 4, 5, 99, 6, 7, 9, 8}\n",
      "Elements in set1 but not in set2: {1, 2, 3, 9}\n",
      "Elements in set2 but not in set1: {8, 99, 6, 7}\n"
     ]
    }
   ],
   "source": [
    "#32. Compare two sets.\n",
    "\n",
    "set1 = {1, 2, 3, 4, 5,9}\n",
    "set2 = {4, 5, 6, 7, 8,99}\n",
    "is_subset = set1.issubset(set2)\n",
    "is_superset = set1.issuperset(set2)\n",
    "intersection = set1.intersection(set2)\n",
    "union = set1.union(set2)\n",
    "difference1 = set1.difference(set2)\n",
    "difference2 = set2.difference(set1)\n",
    "print(\"Set 1:\", set1)\n",
    "print(\"Set 2:\", set2)\n",
    "print(\"Is set1 a subset of set2?\", is_subset)\n",
    "print(\"Is set2 a subset of set1?\", is_superset)\n",
    "print(\"Intersection:\", intersection)\n",
    "print(\"Union:\", union)\n",
    "print(\"Elements in set1 but not in set2:\", difference1)\n",
    "print(\"Elements in set2 but not in set1:\", difference2)"
   ]
  },
  {
   "cell_type": "code",
   "execution_count": 27,
   "id": "933bb6f8-0830-4254-b899-0dd7c765be1d",
   "metadata": {},
   "outputs": [
    {
     "name": "stdin",
     "output_type": "stream",
     "text": [
      "Enter a string:  PWSkills\n"
     ]
    },
    {
     "name": "stdout",
     "output_type": "stream",
     "text": [
      "Set from string:  {'i', 'k', 'P', 'l', 'W', 's', 'S'}\n"
     ]
    }
   ],
   "source": [
    "#33. Create a set from a string.\n",
    "\n",
    "s = input(\"Enter a string: \")\n",
    "st = set()\n",
    "for i in s:\n",
    "    st.add(i)\n",
    "print(\"Set from string: \",st)"
   ]
  },
  {
   "cell_type": "code",
   "execution_count": 35,
   "id": "03262d70-c389-48c0-b73f-50ea2d500573",
   "metadata": {},
   "outputs": [
    {
     "name": "stdout",
     "output_type": "stream",
     "text": [
      "Set of strings:  {'789', '456', '123'}\n",
      "Set of integers: {456, 123, 789}\n"
     ]
    }
   ],
   "source": [
    "#34. Convert a set of strings to a set of integers.\n",
    "\n",
    "s = {\"123\", \"456\", \"789\"}\n",
    "print(\"Set of strings: \",s)\n",
    "si = set()\n",
    "for i in s:\n",
    "    si.add(int(i))\n",
    "print(\"Set of integers:\",si)"
   ]
  },
  {
   "cell_type": "code",
   "execution_count": 38,
   "id": "8205ec00-cc98-41bc-bce9-06d9b86d860a",
   "metadata": {},
   "outputs": [
    {
     "name": "stdout",
     "output_type": "stream",
     "text": [
      "Set of integers:  {1, 2, 3}\n",
      "Set of strings:  {'3', '1', '2'}\n"
     ]
    }
   ],
   "source": [
    "#35. Convert a set of integers to a set of strings.\n",
    "\n",
    "s = {1,2,3}\n",
    "print(\"Set of integers: \",s)\n",
    "ss = set()\n",
    "for i in s:\n",
    "    ss.add(str(i))\n",
    "print(\"Set of strings: \",ss)"
   ]
  },
  {
   "cell_type": "code",
   "execution_count": 39,
   "id": "681a014e-10dd-477d-9506-49c554770819",
   "metadata": {},
   "outputs": [
    {
     "name": "stdout",
     "output_type": "stream",
     "text": [
      "Tuple:  (1, 2, 3, 4, 4, 3)\n",
      "Set form tuple:  {1, 2, 3, 4}\n"
     ]
    }
   ],
   "source": [
    "#36. Create a set from a tuple.\n",
    "\n",
    "t = (1,2,3,4,4,3)\n",
    "print(\"Tuple: \",t)\n",
    "print(\"Set form tuple: \",set(t))"
   ]
  },
  {
   "cell_type": "code",
   "execution_count": 41,
   "id": "53c6410d-2a82-4f87-9f51-9d8b6b15824b",
   "metadata": {},
   "outputs": [
    {
     "name": "stdout",
     "output_type": "stream",
     "text": [
      "Set:  {1, 2, 3, 4}\n",
      "Set to tuple:  (1, 2, 3, 4)\n"
     ]
    }
   ],
   "source": [
    "#37. Convert a set to a tuple.\n",
    "\n",
    "s = {1,2,3,4}\n",
    "print(\"Set: \",s)\n",
    "print(\"Set to tuple: \",tuple(s))"
   ]
  },
  {
   "cell_type": "code",
   "execution_count": 44,
   "id": "b9750674-6500-4de4-8ce8-ad267541fb5a",
   "metadata": {},
   "outputs": [
    {
     "name": "stdout",
     "output_type": "stream",
     "text": [
      "Set:  {1, 2, 99, 3, 4, 9}\n",
      "Maximum value from set:  99\n"
     ]
    }
   ],
   "source": [
    "#38. Find the maximum value in a set.\n",
    "\n",
    "s = {1,2,3,4,9,99}\n",
    "print(\"Set: \",s)\n",
    "print(\"Maximum value from set: \", max(s))"
   ]
  },
  {
   "cell_type": "code",
   "execution_count": 45,
   "id": "8c606e45-a604-402e-b178-a4e06404dbd7",
   "metadata": {},
   "outputs": [
    {
     "name": "stdout",
     "output_type": "stream",
     "text": [
      "Set:  {1, 2, 99, 3, 4, 9}\n",
      "Minimum value from set:  1\n"
     ]
    }
   ],
   "source": [
    "#39. Find the minimum value in a set.\n",
    "\n",
    "s = {1,2,3,4,9,99}\n",
    "print(\"Set: \",s)\n",
    "print(\"Minimum value from set: \", min(s))"
   ]
  },
  {
   "cell_type": "code",
   "execution_count": 2,
   "id": "42f57e9e-0d7f-4b3a-8431-526461761721",
   "metadata": {},
   "outputs": [
    {
     "name": "stdin",
     "output_type": "stream",
     "text": [
      "Enter elements for set (enter 'done' to finish):  1\n",
      "Enter elements for set (enter 'done' to finish):  2\n",
      "Enter elements for set (enter 'done' to finish):  3\n",
      "Enter elements for set (enter 'done' to finish):  4\n",
      "Enter elements for set (enter 'done' to finish):  4\n",
      "Enter elements for set (enter 'done' to finish):  4\n",
      "Enter elements for set (enter 'done' to finish):  4\n",
      "Enter elements for set (enter 'done' to finish):  5\n",
      "Enter elements for set (enter 'done' to finish):  5\n",
      "Enter elements for set (enter 'done' to finish):  done\n"
     ]
    },
    {
     "name": "stdout",
     "output_type": "stream",
     "text": [
      "Set from user input:  {'2', '3', '4', '5', '1'}\n"
     ]
    }
   ],
   "source": [
    "#40. Create a set from user input.\n",
    "\n",
    "s = set()\n",
    "while True:\n",
    "    inp = input(\"Enter elements for set (enter 'done' to finish): \")\n",
    "    if inp.lower() == 'done':\n",
    "        break\n",
    "    else:\n",
    "        s.add(inp)\n",
    "print(\"Set from user input: \",s)"
   ]
  },
  {
   "cell_type": "code",
   "execution_count": 6,
   "id": "7b9856e4-130b-499c-9962-0dd5f7ef4b7f",
   "metadata": {},
   "outputs": [
    {
     "name": "stdout",
     "output_type": "stream",
     "text": [
      "Set 1: {1, 2, 3, 4}\n",
      "Set 2: {0, 5, -2, 6}\n",
      "Intersection of two sets is empty\n"
     ]
    }
   ],
   "source": [
    "#41. Check if the intersection of two sets is empty.\n",
    "\n",
    "s1 = {1,2,3,4}\n",
    "s2 = {0,-2,5,6}\n",
    "print(\"Set 1:\",s1)\n",
    "print(\"Set 2:\",s2)\n",
    "if s1.intersection(s2):\n",
    "    print(\"Intersection of two sets is not empty\")\n",
    "else:\n",
    "    print(\"Intersection of two sets is empty\")"
   ]
  },
  {
   "cell_type": "code",
   "execution_count": 13,
   "id": "43908744-ed30-4cc4-a2de-c8b64bc06259",
   "metadata": {},
   "outputs": [
    {
     "name": "stdin",
     "output_type": "stream",
     "text": [
      "Enter the count of fibonacci series:  5\n"
     ]
    },
    {
     "name": "stdout",
     "output_type": "stream",
     "text": [
      "{0, 1, 2, 3}\n"
     ]
    }
   ],
   "source": [
    "#42. Create a set of the first 5 Fibonacci numbers.\n",
    "\n",
    "n=int(input('Enter the count of fibonacci series: '))\n",
    "flst = []\n",
    "if n<=0:\n",
    "    print(\"Invalid input!. Please enter a valid positive number.\")\n",
    "elif n==1:\n",
    "    flst.append(0)\n",
    "    print(set(flst))\n",
    "else:\n",
    "    flst = [0,1]\n",
    "    for i in range(2, n):\n",
    "        next_ele = flst[i-1]+flst[i-2]\n",
    "        flst.append(next_ele)\n",
    "    print(set(flst))"
   ]
  },
  {
   "cell_type": "code",
   "execution_count": 14,
   "id": "02f1e169-a19c-40c7-9d3a-a400e4e67306",
   "metadata": {},
   "outputs": [
    {
     "name": "stdout",
     "output_type": "stream",
     "text": [
      "List:  [1, 2, 3, 3, 3, 4, 4, 4, 5]\n",
      "Removing duplicates from list:  {1, 2, 3, 4, 5}\n"
     ]
    }
   ],
   "source": [
    "#43. Remove duplicates from a list using sets.\n",
    "\n",
    "l = [1,2,3,3,3,4,4,4,5]\n",
    "print(\"List: \",l)\n",
    "print(\"Removing duplicates from list: \",set(l))"
   ]
  },
  {
   "cell_type": "code",
   "execution_count": 15,
   "id": "998d102f-0e4d-4c0e-8376-192b8dd34aac",
   "metadata": {},
   "outputs": [
    {
     "name": "stdout",
     "output_type": "stream",
     "text": [
      "{1, 2, 3} and {1, 2, 3} have same elements\n"
     ]
    }
   ],
   "source": [
    "#44. Check if two sets have the same elements, regardless of their count.\n",
    "\n",
    "s1 = {1,1,2,2,3,3}\n",
    "s2 = {1,2,3}\n",
    "if s1==s2:\n",
    "    print(s1,\"and\",s2,\"have same elements\")\n",
    "else:\n",
    "    print(s1,\"and\",s2,\"have different elements\")"
   ]
  },
  {
   "cell_type": "code",
   "execution_count": 16,
   "id": "4df8fbde-6556-4f2c-a2d2-6934bf33e0ae",
   "metadata": {},
   "outputs": [
    {
     "name": "stdin",
     "output_type": "stream",
     "text": [
      "Enter value for n:  5\n"
     ]
    },
    {
     "name": "stdout",
     "output_type": "stream",
     "text": [
      "Set of first 5 powers of 2:  {32, 2, 4, 8, 16}\n"
     ]
    }
   ],
   "source": [
    "#45. Create a set of the first `n` powers of 2.\n",
    "\n",
    "n = int(input(\"Enter value for n: \"))\n",
    "s=set()\n",
    "for i in range(1,n+1):\n",
    "    s.add(2**i)\n",
    "print(\"Set of first\",n,\"powers of 2: \",s)"
   ]
  },
  {
   "cell_type": "code",
   "execution_count": 17,
   "id": "16e56cfc-514f-4807-927a-2c0fba682969",
   "metadata": {},
   "outputs": [
    {
     "name": "stdout",
     "output_type": "stream",
     "text": [
      "List:  [1, 2, 2, 3, 4, 4, 5]\n",
      "Set:  {0, 1, 2, 8, 9}\n",
      "Common elements between set and list:  {1, 2}\n"
     ]
    }
   ],
   "source": [
    "#46. Find the common elements between a set and a list.\n",
    "\n",
    "l = [1,2,2,3,4,4,5]\n",
    "s = {1,2,8,9,0}\n",
    "print(\"List: \",l)\n",
    "print(\"Set: \",s)\n",
    "l2s = set(l)\n",
    "print(\"Common elements between set and list: \",s.intersection(l2s))"
   ]
  },
  {
   "cell_type": "code",
   "execution_count": 18,
   "id": "8a4c9621-d396-4422-b17c-2738c7c0afd6",
   "metadata": {},
   "outputs": [
    {
     "name": "stdin",
     "output_type": "stream",
     "text": [
      "Enter value of n:  4\n"
     ]
    },
    {
     "name": "stdout",
     "output_type": "stream",
     "text": [
      "Tuple of first 4 triangular numbers:  {1, 10, 3, 6}\n"
     ]
    }
   ],
   "source": [
    "#47. Create a set of the first `n` triangular numbers.\n",
    "\n",
    "n = int(input(\"Enter value of n: \"))\n",
    "s=set()\n",
    "for i in range(1,n+1,1):\n",
    "    s.add(i*(i+1)//2,)\n",
    "print(\"Tuple of first\",n,\"triangular numbers: \",s)"
   ]
  },
  {
   "cell_type": "code",
   "execution_count": 20,
   "id": "aba58e26-dd47-4f7d-bd53-7f5ef7b246da",
   "metadata": {},
   "outputs": [
    {
     "name": "stdout",
     "output_type": "stream",
     "text": [
      "Set 1:  {1, 2}\n",
      "Set 2:  {1, 2, 3, 4}\n",
      "{1, 2} is subset of {1, 2, 3, 4}\n"
     ]
    }
   ],
   "source": [
    "#48. Check if a set contains another set as a subset.\n",
    "\n",
    "s1 = {1,2}\n",
    "s2 = {1,2,3,4}\n",
    "print(\"Set 1: \",s1)\n",
    "print(\"Set 2: \",s2)\n",
    "if s1.issubset(s2):\n",
    "    print(s1,\"is subset of\",s2)\n",
    "else:\n",
    "    print(s1,\"is not a subset of\",s2)"
   ]
  },
  {
   "cell_type": "code",
   "execution_count": 24,
   "id": "0db5d187-dd18-469c-b144-2f0d8a754a87",
   "metadata": {},
   "outputs": [
    {
     "name": "stdin",
     "output_type": "stream",
     "text": [
      "Enter value for n:  58\n"
     ]
    },
    {
     "name": "stdout",
     "output_type": "stream",
     "text": [
      "Set of  alternating 0s and 1s:  {0, 1}\n",
      "As set is a collection of distict elements, therefore the output will always be 0 and 1 irrespective of the value of m\n"
     ]
    }
   ],
   "source": [
    "#49. Create a set of alternating 1s and 0s of length `n`.\n",
    "\n",
    "n = int(input(\"Enter value for n: \"))\n",
    "s=set()\n",
    "for i in range(1,n+1):\n",
    "    s.add(i%2)\n",
    "print(\"Set of  alternating 0s and 1s: \",s)\n",
    "print(\"As set is a collection of distict elements, therefore the output will always be 0 and 1 irrespective of the value of m\")"
   ]
  },
  {
   "cell_type": "code",
   "execution_count": 25,
   "id": "d6763994-aced-4c58-aae3-01f18534c708",
   "metadata": {},
   "outputs": [
    {
     "name": "stdout",
     "output_type": "stream",
     "text": [
      "Set 1:  {1, 2, 3}\n",
      "Set 2:  {4, 5, 6}\n",
      "Set 3:  {8, 9, 7}\n",
      "Merged Set:  {1, 2, 3, 4, 5, 6, 7, 8, 9}\n"
     ]
    }
   ],
   "source": [
    "#50. Merge multiple sets into one.\n",
    "\n",
    "s1 = {1,2,3}\n",
    "s2 = {4,5,6}\n",
    "s3 = {7,8,9}\n",
    "\n",
    "print(\"Set 1: \",s1)\n",
    "print(\"Set 2: \",s2)\n",
    "print(\"Set 3: \",s3)\n",
    "\n",
    "print(\"Merged Set: \",s1.union(s2,s3))"
   ]
  }
 ],
 "metadata": {
  "kernelspec": {
   "display_name": "Python 3 (ipykernel)",
   "language": "python",
   "name": "python3"
  },
  "language_info": {
   "codemirror_mode": {
    "name": "ipython",
    "version": 3
   },
   "file_extension": ".py",
   "mimetype": "text/x-python",
   "name": "python",
   "nbconvert_exporter": "python",
   "pygments_lexer": "ipython3",
   "version": "3.10.8"
  }
 },
 "nbformat": 4,
 "nbformat_minor": 5
}
